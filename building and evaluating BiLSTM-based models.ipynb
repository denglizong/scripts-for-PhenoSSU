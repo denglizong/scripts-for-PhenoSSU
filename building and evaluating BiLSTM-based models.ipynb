{
 "metadata": {
  "language_info": {
   "codemirror_mode": {
    "name": "ipython",
    "version": 3
   },
   "file_extension": ".py",
   "mimetype": "text/x-python",
   "name": "python",
   "nbconvert_exporter": "python",
   "pygments_lexer": "ipython3",
   "version": "3.6.8-final"
  },
  "orig_nbformat": 2,
  "kernelspec": {
   "name": "python3",
   "display_name": "Python 3"
  }
 },
 "nbformat": 4,
 "nbformat_minor": 2,
 "cells": [
  {
   "cell_type": "code",
   "execution_count": 1,
   "metadata": {},
   "outputs": [],
   "source": [
    "import os\n",
    "import re\n",
    "import json\n",
    "import math\n",
    "import random\n",
    "import numpy as np\n",
    "import pandas as pd\n",
    "import matplotlib.pyplot as plt"
   ]
  },
  {
   "cell_type": "code",
   "execution_count": 2,
   "metadata": {},
   "outputs": [],
   "source": [
    "from nltk.tokenize.punkt import PunktSentenceTokenizer\n",
    "from nltk.tokenize import word_tokenize\n",
    "from nltk.stem import WordNetLemmatizer\n",
    "from nltk.corpus import stopwords\n",
    "from nltk.tokenize import WhitespaceTokenizer\n",
    "from nltk.tokenize import TreebankWordTokenizer\n",
    "from nltk import pos_tag\n",
    "from nltk.util import ngrams"
   ]
  },
  {
   "cell_type": "code",
   "execution_count": 3,
   "metadata": {},
   "outputs": [],
   "source": [
    "from flashtext import KeywordProcessor\n",
    "from interval import Interval\n",
    "from collections import Counter\n",
    "from sklearn.svm import SVC\n",
    "from sklearn.metrics import classification_report\n",
    "from sklearn.model_selection import GridSearchCV\n",
    "from sklearn.multiclass import OneVsRestClassifier"
   ]
  },
  {
   "cell_type": "code",
   "execution_count": 4,
   "metadata": {
    "tags": []
   },
   "outputs": [
    {
     "output_type": "stream",
     "name": "stderr",
     "text": [
      "Using TensorFlow backend.\n"
     ]
    }
   ],
   "source": [
    "from bert_serving.client import BertClient\n",
    "from keras.utils.np_utils import to_categorical\n",
    "from keras.models import Sequential\n",
    "from keras.layers import Dense, LSTM, GRU, Bidirectional, Dropout\n",
    "from keras_self_attention import SeqSelfAttention, SeqWeightedAttention"
   ]
  },
  {
   "cell_type": "code",
   "execution_count": 5,
   "metadata": {},
   "outputs": [],
   "source": [
    "from imblearn.over_sampling import SMOTE\n",
    "from imblearn.over_sampling import RandomOverSampler"
   ]
  },
  {
   "cell_type": "code",
   "execution_count": 6,
   "metadata": {},
   "outputs": [],
   "source": [
    "# 相关数据文件路径\n",
    "data_dir = \"/home/denglizong/SSUMiner/corpus/\""
   ]
  },
  {
   "cell_type": "code",
   "execution_count": 7,
   "metadata": {},
   "outputs": [],
   "source": [
    "# 疾病描述文本文件路径\n",
    "corpus_path = '/home/denglizong/SSUMiner/corpus/WikiPediaR5'\n",
    "# os.listdir( corpus_path )[0:3]"
   ]
  },
  {
   "cell_type": "code",
   "execution_count": 8,
   "metadata": {},
   "outputs": [
    {
     "output_type": "execute_result",
     "data": {
      "text/plain": [
       "['Acinetobacter infections', 'Kawasaki disease', 'Paragonimiasis']"
      ]
     },
     "metadata": {},
     "execution_count": 8
    }
   ],
   "source": [
    "# 疾病名称列表\n",
    "list_of_diseases = [ filename.replace('.txt',\"\") \n",
    "                    for filename in os.listdir( corpus_path ) if filename.endswith(\".txt\")]\n",
    "#\n",
    "list_of_diseases[0:3]                    "
   ]
  },
  {
   "cell_type": "code",
   "execution_count": 9,
   "metadata": {},
   "outputs": [
    {
     "output_type": "execute_result",
     "data": {
      "text/plain": [
       "(133, 60)"
      ]
     },
     "metadata": {},
     "execution_count": 9
    }
   ],
   "source": [
    "# 读入训练集和测试集的疾病名称索引\n",
    "diseases_used_for_training = []\n",
    "diseases_used_for_test = []\n",
    "\n",
    "# 用于训练模型或调优规则的疾病文档\n",
    "file_of_diseases_for_training = os.path.join( data_dir+\"TrainTestSplit\", \"diseases_for_training.txt\" )\n",
    "with open( file_of_diseases_for_training, 'r', encoding='utf-8' ) as f:\n",
    "    for line in f.readlines():\n",
    "        if line.strip() != \"\":\n",
    "            diseases_used_for_training.append( line.strip()  )\n",
    "\n",
    "# 用于测试模型或测试规则的疾病文档\n",
    "file_of_diseases_for_test = os.path.join( data_dir+\"TrainTestSplit\", \"diseases_for_test.txt\" )\n",
    "with open( file_of_diseases_for_test, 'r', encoding='utf-8' ) as f:\n",
    "    for line in f.readlines():\n",
    "        if line.strip() != \"\":\n",
    "            diseases_used_for_test.append( line.strip()  )\n",
    "\n",
    "#\n",
    "len( diseases_used_for_training ), len( diseases_used_for_test )            "
   ]
  },
  {
   "cell_type": "code",
   "execution_count": 10,
   "metadata": {},
   "outputs": [],
   "source": [
    "# 读取brat标注文件的函数\n",
    "# 获取brat对应的标注文件中的实体span,名称及类型\n",
    "# dict_of_brat_annotations.setdefault( ent_id, ('FindingSite', ent_name, pos_info) )    \n",
    "# 将ent_id 和 pos_info的位置置换一下   \n",
    "def read_brat_annotation_file( file_of_brat_annotation ):\n",
    "    # 求解目标\n",
    "    dict_of_brat_annotations = {}\n",
    "    # 原文字符串\n",
    "    text_string = \"\"\n",
    "    with open(file_of_brat_annotation,'r',encoding='utf-8') as f:\n",
    "        text_string = f.read()    \n",
    "    # 注释文件内容\n",
    "    ann_lines = []\n",
    "    with open(file_of_brat_annotation,'r',encoding='utf-8') as f:\n",
    "        ann_lines = f.readlines()\n",
    "    # 解析注释文件中的内容\n",
    "    for line in ann_lines:\n",
    "        # \n",
    "        if line.startswith('T'): \n",
    "            # 表型实体\n",
    "            if re.search('Phenotype',line,re.I):\n",
    "                # T1\tPhenotype 69 86\tpainful abscesses\n",
    "                ent_id, ent_info, ent_name = line.strip().split('\\t')\n",
    "                # 位置信息 153 157;180 194\n",
    "                pos_info = ent_info.replace('Phenotype ','')\n",
    "                # \n",
    "                # dict_of_brat_annotations.setdefault( ent_id, ('Phenotype', ent_name, pos_info) )   \n",
    "                dict_of_brat_annotations.setdefault( pos_info, ('Phenotype', ent_name, ent_id) )\n",
    "            # 部位实体\n",
    "            elif re.search('FindingSite',line,re.I):\n",
    "                # T4\tFindingSite 114 120\tbreast\n",
    "                ent_id, ent_info, ent_name = line.strip().split('\\t')\n",
    "                # 位置信息 114 120\n",
    "                pos_info = ent_info.replace('FindingSite ','')   \n",
    "                #\n",
    "                # dict_of_brat_annotations.setdefault( ent_id, ('FindingSite', ent_name, pos_info) )   \n",
    "                dict_of_brat_annotations.setdefault( pos_info, ('FindingSite', ent_name, ent_id) )     \n",
    "    #\n",
    "    return dict_of_brat_annotations   \n",
    "    "
   ]
  },
  {
   "cell_type": "code",
   "execution_count": 11,
   "metadata": {},
   "outputs": [],
   "source": [
    "# 属性名称列表\n",
    "# list_of_attributes = ['Assertion','Severity','Temporal','Sensation','Color','Magnitudes','Shape','Age','Gender',\n",
    "#                      'Frequency','Relevance','Laterality','Quadrant','Distribution',\n",
    "#                       'Stage','Phase','Type','SOI','Complication']\n",
    "# 待预测的属性名称\n",
    "list_of_attributes = ['Assertion','Severity','Temporal','Sensation','Color','Age','Gender',\n",
    "                     'Frequency','Distribution','SOI']                   "
   ]
  },
  {
   "cell_type": "code",
   "execution_count": 12,
   "metadata": {},
   "outputs": [],
   "source": [
    "# \n",
    "# 目标变量: annotated_phenotypes_info_of_diseases.setdefault(disease_name, info_of_annotated_phenotypes )\n",
    "# list of info_of_annotated_phenotypes 以表型的id为key,记录表型的标注信息\n",
    "# info_of_annotated_phenotypes.setdefault(pheno_id, tmpdict)\n",
    "# 以表型为单位，包含以下信息记录到tmpdict\n",
    "# tmpdict.setdefault(\"pheno_name\",pheno_name)\n",
    "# tmpdict.setdefault(\"pheno_pos\",pheno_pos)\n",
    "# tmpdict.setdefault(\"associated_sites\", ';'.join(associated_finding_sites) )\n",
    "# tmpdict.setdefault(\"associated_attributes\", ';'.join(associated_attributes) )   \n",
    "# 重置   \n",
    "annotated_phenotypes_info_of_diseases = {}\n",
    "\n",
    "for disease_name in list_of_diseases:\n",
    "    # 疾病百科原文\n",
    "    file_of_original_text  = os.path.join( corpus_path, disease_name + '.txt' )\n",
    "    raw_text = open( file_of_original_text, 'r', encoding='utf-8').read() \n",
    "    # 莫非是 raw_text 没有替换'\\n'的问题？(因为标注的时候有替换)\n",
    "    # 还真的是这个问题\n",
    "    raw_text = raw_text.replace('\\n',' ')\n",
    "\n",
    "    # 获取该疾病文本的人工标注\n",
    "    # 原来是这里出错了，将 disease_name 设置为了 \"Acinetobacter infections\"\n",
    "    file_of_brat_annotation  = os.path.join( corpus_path, disease_name + '.ann' )\n",
    "\n",
    "    # 解析其中标注的表型信息\n",
    "    info_of_annotated_phenotypes = {}  \n",
    "\n",
    "    with open(file_of_brat_annotation,'r',encoding='utf-8') as f:\n",
    "\n",
    "        # 载入标注文件的行\n",
    "        lines = f.readlines()\n",
    "        # 搜索标注的表型实体\n",
    "        # 获取该文本中出现过的表型实体编号及其名称   ent_id, ent_name \n",
    "        dict_of_phenotypic_id_and_name = {}\n",
    "        # 获取该文本中出现过的部位实体编号及其名称   ent_id, ent_name \n",
    "        dict_of_findingsite_id_and_name = {}\n",
    "        # 记录表型实体与部位实体之间的关联          ent1_id, [ent2_id] 可能会关联多个部位\n",
    "        dict_of_phenotypes_related_sites = {}   \n",
    "        # 记录表型实体具有的属性信息                ent_id, [(att_name,att_value)] 可能会关联多个属性\n",
    "        dict_of_phenotypes_related_attributes = {}         \n",
    "        #\n",
    "        for line in lines:\n",
    "            # 表型实体，不包括部位实体\n",
    "            if line.startswith('T'): \n",
    "                if re.search('Phenotype',line,re.I):\n",
    "                    # T1\tPhenotype 69 86\tpainful abscesses\n",
    "                    ent_id, ent_info, ent_name = line.strip().split('\\t')\n",
    "                    # 位置信息 153 157;180 194\n",
    "                    ent_pos = ent_info.replace('Phenotype ','')\n",
    "                    # \n",
    "                    dict_of_phenotypic_id_and_name.setdefault( ent_id, (ent_name,ent_pos) )   \n",
    "                elif re.search('FindingSite',line,re.I):\n",
    "                    # T4\tFindingSite 114 120\tbreast\n",
    "                    ent_id, ent_info, ent_name = line.strip().split('\\t')\n",
    "                    dict_of_findingsite_id_and_name.setdefault( ent_id, ent_name )                \n",
    "            # 找到关系 ，记录标注有部位的表型\n",
    "            elif line.startswith('R'):\n",
    "                if re.search('locate',line,re.I):\n",
    "                    # R1\tlocate Arg1:T1 Arg2:T2\t\n",
    "                    rel_id, rel_info, tmp_str = line.split('\\t')\n",
    "                    # locate Arg1:T1 Arg2:T2\n",
    "                    part_a, part_b, part_c = rel_info.split(' ')\n",
    "                    # \n",
    "                    ent1_id = part_b.split(':')[1]\n",
    "                    ent2_id = part_c.split(':')[1]\n",
    "                    #\n",
    "                    if ent1_id not in dict_of_phenotypes_related_sites:\n",
    "                        dict_of_phenotypes_related_sites.setdefault( ent1_id, [ent2_id] )     \n",
    "                    else:\n",
    "                        dict_of_phenotypes_related_sites[ent1_id].append( ent2_id )\n",
    "            # 属性行，关联到对应的表型实体\n",
    "            elif line.startswith('A'):\n",
    "                # A2\tAssertion T6 Possible\n",
    "                info_a, info_b = line.strip().split('\\t')\n",
    "                att_name, ent_id, att_value = info_b.split(' ') \n",
    "                # 除外'AgreeAnn','EqualRaw'属性\n",
    "                if att_name not in ['AgreeAnn','EqualRaw']:\n",
    "                    # 表型id, 属性名称，属性值\n",
    "                    if ent_id not in dict_of_phenotypes_related_attributes:\n",
    "                        dict_of_phenotypes_related_attributes.setdefault( ent_id, [(att_name,att_value)]  )\n",
    "                    else:\n",
    "                        dict_of_phenotypes_related_attributes[ent_id].append( (att_name,att_value) ) \n",
    "        #\n",
    "        for pheno_id in dict_of_phenotypic_id_and_name:\n",
    "            # 文档名称\n",
    "            doc_name = disease_name\n",
    "            # 表型名称  (ent_name,end_start,end_end)\n",
    "            pheno_name = dict_of_phenotypic_id_and_name[pheno_id][0]\n",
    "            # 表型位置\n",
    "            pheno_pos = dict_of_phenotypic_id_and_name[pheno_id][1]\n",
    "            # 关联部位名称 (分号隔开)\n",
    "            associated_finding_sites = []\n",
    "            if pheno_id in dict_of_phenotypes_related_sites:\n",
    "                site_ids = dict_of_phenotypes_related_sites[pheno_id]\n",
    "                for site_id in site_ids:\n",
    "                    if site_id in dict_of_findingsite_id_and_name:\n",
    "                        associated_finding_sites.append( dict_of_findingsite_id_and_name[site_id] )\n",
    "            # 关联属性\n",
    "            associated_attributes = []\n",
    "            if pheno_id in dict_of_phenotypes_related_attributes:\n",
    "                list_of_attrs = dict_of_phenotypes_related_attributes[pheno_id]\n",
    "                for (_attr, _value) in list_of_attrs:\n",
    "                    associated_attributes.append( _attr+\":\"+_value) \n",
    "            # 记录\n",
    "            tmpdict = {}\n",
    "            tmpdict.setdefault(\"pheno_name\",pheno_name)\n",
    "            tmpdict.setdefault(\"pheno_pos\",pheno_pos)\n",
    "            tmpdict.setdefault(\"associated_sites\", ';'.join(associated_finding_sites) )\n",
    "            tmpdict.setdefault(\"associated_attributes\", ';'.join(associated_attributes) )                       \n",
    "            # \n",
    "            info_of_annotated_phenotypes.setdefault(pheno_id, tmpdict)\n",
    "            annotated_phenotypes_info_of_diseases.setdefault(disease_name, info_of_annotated_phenotypes )  "
   ]
  },
  {
   "cell_type": "code",
   "execution_count": 13,
   "metadata": {},
   "outputs": [
    {
     "output_type": "execute_result",
     "data": {
      "text/plain": [
       "{'pheno_name': 'painful abscesses',\n",
       " 'pheno_pos': '69 86',\n",
       " 'associated_sites': 'mouth;lungs;breast;gastrointestinal tract',\n",
       " 'associated_attributes': 'Assertion:Present;Relevance:Distinctive_finding'}"
      ]
     },
     "metadata": {},
     "execution_count": 13
    }
   ],
   "source": [
    "# 给定一份疾病文档，输出专家标注的表型信息\n",
    "annotated_phenotypes_info_of_diseases['Actinomycosis']['T1']"
   ]
  },
  {
   "cell_type": "code",
   "execution_count": 12,
   "metadata": {},
   "outputs": [],
   "source": [
    "# 进一步的，对于每一个标注的表型，记录表型所在的句子文本信息\n",
    "# 将之增添到 annotated_phenotypes_info_of_diseases 变量中\n",
    "for disease_name in list_of_diseases:\n",
    "    # for the disease_name \n",
    "\n",
    "    # 疾病百科原文\n",
    "    file_of_original_text  = os.path.join( corpus_path, disease_name + '.txt' )\n",
    "    raw_text = open( file_of_original_text, 'r', encoding='utf-8').read() \n",
    "    # 莫非是 raw_text 没有替换'\\n'的问题？(因为标注的时候有替换)\n",
    "    # 还真的是这个问题 \n",
    "    # 在S1A 使用MetaMap注释语料的过程中, 替换其中的'\\n'为','\n",
    "    raw_text = raw_text.replace('\\n',',')\n",
    "\n",
    "    # 读入文本文件，获取句子信息\n",
    "    # text_sents = []\n",
    "    for start, end in PunktSentenceTokenizer().span_tokenize(raw_text):\n",
    "        # text_sents.append( (start,end, raw_text[start:end]) ) \n",
    "        sent_text = raw_text[start:end]\n",
    "        \n",
    "        # 遍历标注的表型\n",
    "        for pheno_id in annotated_phenotypes_info_of_diseases[disease_name]:\n",
    "            # 解析表型的起止位置\n",
    "            pheno_info = annotated_phenotypes_info_of_diseases[disease_name][pheno_id]\n",
    "            pheno_spos = int( pheno_info['pheno_pos'].split(' ')[0] )\n",
    "            pheno_epos = int( pheno_info['pheno_pos'].split(' ')[-1] )\n",
    "\n",
    "            # 进一步定位表型所在的句子,\n",
    "            if pheno_spos >= start and pheno_epos<= end:  \n",
    "                # 记录表型所在的句子\n",
    "                if 'pheno_context' not in annotated_phenotypes_info_of_diseases[disease_name][pheno_id]:\n",
    "                    annotated_phenotypes_info_of_diseases[disease_name][pheno_id].setdefault( 'pheno_context', sent_text )\n",
    "                else:\n",
    "                    annotated_phenotypes_info_of_diseases[disease_name][pheno_id]['pheno_context'] = sent_text\n",
    "                # 记录表型在句子中的起始位置\n",
    "                pheno_spos_in_sent = pheno_spos - start\n",
    "                pheno_epos_in_sent = pheno_epos - start\n",
    "                pos_info = (pheno_spos_in_sent, pheno_epos_in_sent)\n",
    "                if pos_info not in annotated_phenotypes_info_of_diseases[disease_name][pheno_id]:\n",
    "                    annotated_phenotypes_info_of_diseases[disease_name][pheno_id].setdefault( 'pheno_pos_in_sent', pos_info )"
   ]
  },
  {
   "cell_type": "code",
   "execution_count": 13,
   "metadata": {},
   "outputs": [
    {
     "output_type": "execute_result",
     "data": {
      "text/plain": "{'pheno_name': 'painful abscesses',\n 'pheno_pos': '69 86',\n 'associated_sites': 'mouth;lungs;breast;gastrointestinal tract',\n 'associated_attributes': 'Assertion:Present;Relevance:Distinctive_finding',\n 'pheno_context': 'Signs and symptoms,,The disease is characterised by the formation of painful abscesses in the mouth, lungs,[3][4] breast,[5] or gastrointestinal tract.',\n 'pheno_pos_in_sent': (69, 86)}"
     },
     "metadata": {},
     "execution_count": 13
    }
   ],
   "source": [
    "# 再看看现在记录到变量中的信息\n",
    "annotated_phenotypes_info_of_diseases['Actinomycosis']['T1']"
   ]
  },
  {
   "cell_type": "code",
   "execution_count": 17,
   "metadata": {},
   "outputs": [],
   "source": [
    "# create bert encoding instance\n",
    "bc = BertClient()"
   ]
  },
  {
   "cell_type": "code",
   "execution_count": 18,
   "metadata": {},
   "outputs": [],
   "source": [
    "# 一个容忍错误的编码系统\n",
    "def try_bert_encoding( list_with_one_item ):\n",
    "    try:\n",
    "        # 如果能正确编码，返回 \n",
    "        encoding_of_item = bc.encode(list_with_one_item)[0]\n",
    "        return encoding_of_item\n",
    "    # except后面的ValueError是Python提供的标准异常名称，当传入函数的参数无效时，该异常被抛出。\n",
    "    # Python提供了几十个标准异常名称，用于处理在不同情况下发生的异常。\n",
    "    except ValueError:\n",
    "        encoding_of_item = np.zeros(768)\n",
    "        return encoding_of_item"
   ]
  },
  {
   "cell_type": "code",
   "execution_count": 21,
   "metadata": {
    "tags": []
   },
   "outputs": [],
   "source": [
    "# bc 测试\n",
    "# print( bc.encode(['hi']) )"
   ]
  },
  {
   "cell_type": "code",
   "execution_count": 28,
   "metadata": {
    "tags": []
   },
   "outputs": [
    {
     "output_type": "stream",
     "name": "stderr",
     "text": "/home/denglizong/SSUMiner/lib/python3.6/site-packages/bert_serving/client/__init__.py:299: UserWarning: some of your sentences have more tokens than \"max_seq_len=50\" set on the server, as consequence you may get less-accurate or truncated embeddings.\nhere is what you can do:\n- disable the length-check by create a new \"BertClient(check_length=False)\" when you do not want to display this warning\n- or, start a new server with a larger \"max_seq_len\"\n  '- or, start a new server with a larger \"max_seq_len\"' % self.length_limit)\nCPU times: user 2.94 s, sys: 933 ms, total: 3.87 s\nWall time: 12min\n"
    }
   ],
   "source": [
    "%%time\n",
    "# 训练集表征\n",
    "# 根据训练集中的疾病名称，读入用于机器学习的输入信息\n",
    "# 目标 : x_train, y_train\n",
    "# x_train [ [上文,实体,下文], [上文,实体,下文], ]\n",
    "# y_train [ [Present]      , [Possible]     , ]\n",
    "\n",
    "# list of context/pheno/context vectors (3*768 ndarray) encoding with bert\n",
    "training_list_of_pheno_vectors = []\n",
    "# associated attributes of phenotype (all labels)\n",
    "training_list_of_pheno_labels  = []\n",
    "\n",
    "\n",
    "for disease_name in list( annotated_phenotypes_info_of_diseases.keys() ):\n",
    "    # 仅看训练集中的疾病\n",
    "    if disease_name not in diseases_used_for_training:\n",
    "        continue\n",
    "\n",
    "    # 该疾病文档中标注的表型及其关联属性\n",
    "    info_of_annotated_phenotypes = annotated_phenotypes_info_of_diseases[disease_name]\n",
    "\n",
    "    # 对于该疾病文档中标注的每一个表型\n",
    "    for pheno_id in info_of_annotated_phenotypes:\n",
    "        # 获取该变量中存储的表型相关信息\n",
    "        pheno_info = info_of_annotated_phenotypes[pheno_id]\n",
    "\n",
    "        # 如果该表型没有上下文，跳过\n",
    "        if 'pheno_context' not in pheno_info:\n",
    "            continue\n",
    "\n",
    "        # 表型的名称\n",
    "        pheno_name = pheno_info['pheno_name']\n",
    "        # 表型所在的句子 (有的表型没有\"pheno_context\") )\n",
    "        pheno_text = pheno_info['pheno_context']\n",
    "        # 表型在句子中的位置 (注意pheno_epos-1)才是表型最后一个字符串的位置\n",
    "        pheno_spos, pheno_epos = pheno_info['pheno_pos_in_sent']     \n",
    "        pheno_epos = pheno_epos-1\n",
    "        # 表型的关联属性\n",
    "        pheno_labels = pheno_info['associated_attributes'] \n",
    "        # 记录表型的关联属性\n",
    "        training_list_of_pheno_labels.append( pheno_labels )   \n",
    "\n",
    "        # 表型的上下文\n",
    "        left_context = pheno_text[:pheno_spos]\n",
    "        right_context = pheno_text[pheno_epos+1:]\n",
    "\n",
    "\n",
    "        # generate representation of phenotype entity and its context\n",
    "        vec_0 = try_bert_encoding( [pheno_name] )\n",
    "        vec_1 = try_bert_encoding( [left_context] )\n",
    "        vec_2 = try_bert_encoding( [right_context] )  \n",
    "\n",
    "        # 用于表征该表型及其上下文的表征向量 3*758 的二维向量 \n",
    "        # context/phenotype/context\n",
    "        pheno_vector = np.array( [vec_1, vec_0, vec_2] )\n",
    "        # n sample * 3 * 758\n",
    "        training_list_of_pheno_vectors.append(pheno_vector)        "
   ]
  },
  {
   "cell_type": "code",
   "execution_count": 508,
   "metadata": {
    "tags": []
   },
   "outputs": [
    {
     "output_type": "stream",
     "name": "stderr",
     "text": "/home/denglizong/SSUMiner/lib/python3.6/site-packages/bert_serving/client/__init__.py:299: UserWarning: some of your sentences have more tokens than \"max_seq_len=50\" set on the server, as consequence you may get less-accurate or truncated embeddings.\nhere is what you can do:\n- disable the length-check by create a new \"BertClient(check_length=False)\" when you do not want to display this warning\n- or, start a new server with a larger \"max_seq_len\"\n  '- or, start a new server with a larger \"max_seq_len\"' % self.length_limit)\nCPU times: user 1.29 s, sys: 541 ms, total: 1.83 s\nWall time: 4min 33s\n"
    }
   ],
   "source": [
    "%%time\n",
    "# 测试集表征\n",
    "# 根据训练集中的疾病名称，读入用于机器学习的输入信息\n",
    "# 目标 : x_train, y_train\n",
    "# x_train [ [上文,实体,下文], [上文,实体,下文], ]\n",
    "# y_train [ [Present]      , [Possible]     , ]\n",
    "\n",
    "# list of context/pheno/context vectors (3*768 ndarray) encoding with bert\n",
    "testing_list_of_pheno_vectors = []\n",
    "\n",
    "# 带上 disease_name , phenoid 的标记，便于追踪\n",
    "testing_list_of_pheno_ids = []\n",
    "\n",
    "# associated attributes of phenotype (all labels)\n",
    "testing_list_of_pheno_labels  = []\n",
    "\n",
    "\n",
    "for disease_name in list( annotated_phenotypes_info_of_diseases.keys() ):\n",
    "    # 仅看训练集中的疾病\n",
    "    if disease_name not in diseases_used_for_test:\n",
    "        continue\n",
    "\n",
    "    # 该疾病文档中标注的表型及其关联属性\n",
    "    info_of_annotated_phenotypes = annotated_phenotypes_info_of_diseases[disease_name]\n",
    "\n",
    "    # 对于该疾病文档中标注的每一个表型\n",
    "    for pheno_id in info_of_annotated_phenotypes:\n",
    "        # 获取该变量中存储的表型相关信息\n",
    "        pheno_info = info_of_annotated_phenotypes[pheno_id]\n",
    "\n",
    "        # 如果该表型没有上下文，跳过\n",
    "        if 'pheno_context' not in pheno_info:\n",
    "            continue\n",
    "\n",
    "        # 表型的名称\n",
    "        pheno_name = pheno_info['pheno_name']\n",
    "        # 表型所在的句子 (有的表型没有\"pheno_context\") )\n",
    "        pheno_text = pheno_info['pheno_context']\n",
    "        # 表型在句子中的位置 (注意pheno_epos-1)才是表型最后一个字符串的位置\n",
    "        pheno_spos, pheno_epos = pheno_info['pheno_pos_in_sent']     \n",
    "        pheno_epos = pheno_epos-1\n",
    "        # 表型的关联属性\n",
    "        pheno_labels = pheno_info['associated_attributes'] \n",
    "        # 记录表型的关联属性\n",
    "        testing_list_of_pheno_labels.append( pheno_labels )\n",
    "        # 同步该表型的文档坐标\n",
    "        testing_list_of_pheno_ids.append( (disease_name, pheno_id)  )\n",
    "\n",
    "        # 表型的上下文\n",
    "        left_context = pheno_text[:pheno_spos]\n",
    "        right_context = pheno_text[pheno_epos+1:]\n",
    "\n",
    "\n",
    "        # generate representation of phenotype entity and its context\n",
    "        vec_0 = try_bert_encoding( [pheno_name] )\n",
    "        vec_1 = try_bert_encoding( [left_context] )\n",
    "        vec_2 = try_bert_encoding( [right_context] )  \n",
    "\n",
    "        # 用于表征该表型及其上下文的表征向量 3*758 的二维向量 \n",
    "        # context/phenotype/context\n",
    "        pheno_vector = np.array( [vec_1, vec_0, vec_2] )\n",
    "        # n sample * 3 * 758\n",
    "        testing_list_of_pheno_vectors.append(pheno_vector)        "
   ]
  },
  {
   "cell_type": "code",
   "execution_count": 512,
   "metadata": {},
   "outputs": [
    {
     "output_type": "execute_result",
     "data": {
      "text/plain": "array([[-0.19783789,  0.4683154 , -0.1640877 , ..., -0.5582233 ,\n        -0.12880503,  0.41255882],\n       [-0.11694559, -0.24064814, -0.5739989 , ..., -0.31650406,\n        -0.4624267 , -0.16003573],\n       [-0.32084447,  0.41119006,  0.25170118, ..., -0.6653215 ,\n        -0.58424926, -0.13244563]], dtype=float32)"
     },
     "metadata": {},
     "execution_count": 512
    }
   ],
   "source": [
    "testing_list_of_pheno_vectors[0]"
   ]
  },
  {
   "cell_type": "code",
   "execution_count": 511,
   "metadata": {},
   "outputs": [
    {
     "output_type": "execute_result",
     "data": {
      "text/plain": "[('Acinetobacter infections', 'T1'),\n ('Acinetobacter infections', 'T2'),\n ('Acinetobacter infections', 'T3')]"
     },
     "metadata": {},
     "execution_count": 511
    }
   ],
   "source": [
    "testing_list_of_pheno_ids[0:3]"
   ]
  },
  {
   "cell_type": "code",
   "execution_count": 30,
   "metadata": {},
   "outputs": [],
   "source": [
    "# 建立单属性预测 y_label 所需要的函数\n",
    "# list_of_pheno_labels --> list_of_pheno_labels_for_target_attribute\n",
    "# 'Assertion:Possible;Frequency:Frequent;Gender:Female' --> 'Assertion:Possible'\n",
    "# 对于Assertion必选属性，由于每一个属性都有，故每一个表型都有\n",
    "# 但对于其它非必选属性 ，如果该表型没有这一属性，应设置为 '属性:NONE', 这也是一种选择\n",
    "def get_list_of_labels_for_target_attribute( list_of_pheno_labels, target_attribute_name ):\n",
    "    #\n",
    "    list_of_pheno_labels_wanted = []\n",
    "    # \n",
    "    for pheno_labels_str in list_of_pheno_labels:\n",
    "        # 'Assertion:Possible;Frequency:Frequent;Gender:Female'\n",
    "        found_attr_value_wanted = False\n",
    "        for pheno_label in pheno_labels_str.split(';'):\n",
    "            # 'Assertion' in 'Assertion:Possible'\n",
    "            # 找到该属性对应的属性:取值记录 \n",
    "            if target_attribute_name in pheno_label:\n",
    "                list_of_pheno_labels_wanted.append( pheno_label )\n",
    "                found_attr_value_wanted = True\n",
    "                break\n",
    "        # 如果没有找到该属性对应的取值记录\n",
    "        # 填充属性:NONE，这也是一种选择，说明上下文中没有这个属性的描述\n",
    "        if found_attr_value_wanted == False and target_attribute_name not in ['Assertion']:\n",
    "            list_of_pheno_labels_wanted.append( target_attribute_name + ':' +'None' )\n",
    "    #\n",
    "    return list_of_pheno_labels_wanted"
   ]
  },
  {
   "cell_type": "code",
   "execution_count": 35,
   "metadata": {},
   "outputs": [],
   "source": [
    "# 观察 某一具体属性(wanted_attr_name)在疾病文档(disease_names)中取值分布的函数\n",
    "# {value 1: count 1, value 2: count 2}\n",
    "# occurences_of_attribute_values = {}\n",
    "def stat_occurences_of_attribute_values( wanted_attr_name, disease_names ):\n",
    "    # \n",
    "    dict_of_attribute_value_distribution = {}\n",
    "\n",
    "    #\n",
    "    for disease_name in disease_names:\n",
    "        # 这一疾病对应的文本文件和标注文件\n",
    "        # textfilepath = os.path.join( filepath, disease_names+'.txt')\n",
    "        annfilepath  = os.path.join( corpus_path, disease_name+'.ann')\n",
    "        \n",
    "        # 读入标注文件\n",
    "        with open(annfilepath,'r',encoding='utf-8') as f:\n",
    "            # 载入标注文件的行\n",
    "            lines = f.readlines()     \n",
    "            # 找到属性行\n",
    "            for line in lines:\n",
    "                # 解析属性行，\n",
    "                if line.startswith('A'):\n",
    "                    # 解析属性行中的属性名称\n",
    "                    # A2\tAssertion T6 Possible\n",
    "                    info_a, info_b = line.strip().split('\\t')\n",
    "                    att_name, ent_id, att_value = info_b.split(' ')                     \n",
    "                    # 如果是需要统计的属性\n",
    "                    if att_name == wanted_attr_name:\n",
    "                        # 统计属性值\n",
    "                        if att_value not in dict_of_attribute_value_distribution:\n",
    "                            dict_of_attribute_value_distribution.setdefault(att_value, 1)\n",
    "                        else:\n",
    "                            dict_of_attribute_value_distribution[att_value] +=1\n",
    "    #\n",
    "    return dict_of_attribute_value_distribution                                "
   ]
  },
  {
   "cell_type": "code",
   "execution_count": 31,
   "metadata": {},
   "outputs": [],
   "source": [
    "# 开始属性预测模型的构建、调优之旅"
   ]
  },
  {
   "cell_type": "code",
   "execution_count": 604,
   "metadata": {
    "tags": []
   },
   "outputs": [
    {
     "output_type": "stream",
     "name": "stdout",
     "text": "['Assertion', 'Severity', 'Temporal', 'Sensation', 'Color', 'Age', 'Gender', 'Frequency', 'Distribution', 'SOI']\n"
    }
   ],
   "source": [
    "print(list_of_attributes)"
   ]
  },
  {
   "cell_type": "code",
   "execution_count": 125,
   "metadata": {},
   "outputs": [],
   "source": [
    "dict_of_trained_classifiers = {}"
   ]
  },
  {
   "cell_type": "code",
   "execution_count": 797,
   "metadata": {},
   "outputs": [],
   "source": [
    "# 1. Constructing 'Assertion' Attribute slot filling model\n",
    "target_attribute = 'Temporal'"
   ]
  },
  {
   "cell_type": "code",
   "execution_count": 798,
   "metadata": {},
   "outputs": [
    {
     "output_type": "execute_result",
     "data": {
      "text/plain": "['Temporal:Prolonged', 'Temporal:None', 'Temporal:None']"
     },
     "metadata": {},
     "execution_count": 798
    }
   ],
   "source": [
    "# y_labels of 'Assertion'\n",
    "# training_list_of_pheno_labels for target_attribute\n",
    "filted_training_list_of_pheno_labels = get_list_of_labels_for_target_attribute( training_list_of_pheno_labels, target_attribute ) \n",
    "filted_training_list_of_pheno_labels[0:3] "
   ]
  },
  {
   "cell_type": "code",
   "execution_count": 799,
   "metadata": {},
   "outputs": [
    {
     "output_type": "execute_result",
     "data": {
      "text/plain": "{'None': 0,\n 'Chronic': 1,\n 'Nocturnal': 2,\n 'Acute': 3,\n 'Subacute': 4,\n 'Recurrent': 5,\n 'Transient': 6,\n 'Prolonged': 7}"
     },
     "metadata": {},
     "execution_count": 799
    }
   ],
   "source": [
    "# 对目标属性的取值进行数字编码\n",
    "codes_of_attribute_values = {}\n",
    "\n",
    "# default的属性取值设置为0\n",
    "if target_attribute == 'Assertion':\n",
    "    codes_of_attribute_values.setdefault( \"Present\", 0 )\n",
    "else:\n",
    "    codes_of_attribute_values.setdefault( \"None\", 0 )  \n",
    "\n",
    "\n",
    "# 观察目标属性在语料集中的出现情况\n",
    "# 观察目标属性在训练集中的出现情况\n",
    "present_of_attribute_values = stat_occurences_of_attribute_values(target_attribute, diseases_used_for_training)\n",
    "# 该属性在训练集中出现的类别数 len( present_of_attribute_values )\n",
    "\n",
    "# 对出现过的目标属性取值进行数字编码\n",
    "for attribute_value in present_of_attribute_values:\n",
    "    if attribute_value != 'Present':\n",
    "        # 赋予编号\n",
    "        count_of_attribute_value = present_of_attribute_values[ attribute_value ] \n",
    "        #\n",
    "        code_of_attribute_value = len( codes_of_attribute_values )\n",
    "        codes_of_attribute_values.setdefault( attribute_value , code_of_attribute_value )  \n",
    "\n",
    "# 符合样本数条件的属性类\n",
    "codes_of_attribute_values"
   ]
  },
  {
   "cell_type": "code",
   "execution_count": 800,
   "metadata": {},
   "outputs": [
    {
     "output_type": "execute_result",
     "data": {
      "text/plain": "Counter({'Temporal:Prolonged': 11,\n         'Temporal:None': 2782,\n         'Temporal:Subacute': 2,\n         'Temporal:Transient': 6,\n         'Temporal:Acute': 47,\n         'Temporal:Chronic': 47,\n         'Temporal:Recurrent': 6,\n         'Temporal:Nocturnal': 6})"
     },
     "metadata": {},
     "execution_count": 800
    }
   ],
   "source": [
    "# 通过 filted_training_list_of_pheno_labels 观察 每一种属性取值的分布\n",
    "# 可以看到 'Assertion:Hypothetical' (4) 和 'Assertion:Absent' (16)的样本数都很少\n",
    "# 所有，可以考虑只保留 'Assertion:Present'/'Assertion:Possible'/'Assertion:Conditional'三种类型\n",
    "# 构建一个3分类器\n",
    "Counter( filted_training_list_of_pheno_labels )"
   ]
  },
  {
   "cell_type": "code",
   "execution_count": 801,
   "metadata": {},
   "outputs": [
    {
     "output_type": "execute_result",
     "data": {
      "text/plain": "['Temporal:Prolonged',\n 'Temporal:Subacute',\n 'Temporal:Transient',\n 'Temporal:Recurrent',\n 'Temporal:Nocturnal']"
     },
     "metadata": {},
     "execution_count": 801
    }
   ],
   "source": [
    "# 删除数量过少的类 (SMOTE k-means方法的数量限定) (样本数量 < 分类数量)\n",
    "excluded_attr_names = []\n",
    "# occurrence_threshold = len( codes_of_attribute_values )\n",
    "occurrence_threshold = 15\n",
    "\n",
    "for attr_name, count in Counter( filted_training_list_of_pheno_labels ).items():\n",
    "    if count < occurrence_threshold:\n",
    "        excluded_attr_names.append( attr_name )\n",
    "\n",
    "excluded_attr_names"
   ]
  },
  {
   "cell_type": "code",
   "execution_count": 802,
   "metadata": {},
   "outputs": [
    {
     "output_type": "execute_result",
     "data": {
      "text/plain": "31"
     },
     "metadata": {},
     "execution_count": 802
    }
   ],
   "source": [
    "# 对训练集中的 list_of_pheno_vectors 和 list_of_pheno_labels 进行修正\n",
    "# 去除不需要的pheno_labels\n",
    "excluded_pheno_idx = []\n",
    "for idx, item in enumerate( filted_training_list_of_pheno_labels ):\n",
    "    if item in excluded_attr_names:\n",
    "        excluded_pheno_idx.append( idx )\n",
    "\n",
    "# 16 + 4\n",
    "len(excluded_pheno_idx)"
   ]
  },
  {
   "cell_type": "code",
   "execution_count": 803,
   "metadata": {},
   "outputs": [],
   "source": [
    "# 对训练集中的 list_of_pheno_vectors 和 list_of_pheno_labels 进行修正\n",
    "# 去除不需要的pheno_labels\n",
    "new_training_list_of_pheno_vectors = []\n",
    "new_training_list_of_pheno_labels  = []\n",
    "\n",
    "\n",
    "for idx, item in enumerate( filted_training_list_of_pheno_labels ):\n",
    "    if idx not in excluded_pheno_idx:\n",
    "        new_training_list_of_pheno_vectors.append( training_list_of_pheno_vectors[idx]  )\n",
    "        new_training_list_of_pheno_labels.append( filted_training_list_of_pheno_labels[idx] )        "
   ]
  },
  {
   "cell_type": "code",
   "execution_count": 804,
   "metadata": {},
   "outputs": [
    {
     "output_type": "execute_result",
     "data": {
      "text/plain": "[0, 0, 0]"
     },
     "metadata": {},
     "execution_count": 804
    }
   ],
   "source": [
    "# 将 training labels 和 testing labels 从文字形态转为数字形态\n",
    "# 类的删除对 training_list_of_pheno_labels_by_int有影响吗？\n",
    "# 7个零，training_labels 中只有3个位置有 1 的存在，纳入训练\n",
    "# 但 test_labels中所有原始标注均保留 \n",
    "# training y_labels as int\n",
    "training_list_of_pheno_labels_by_int = []\n",
    "\n",
    "for label in new_training_list_of_pheno_labels:\n",
    "    attribute_value = label.split(':')[1]\n",
    "    value_code = codes_of_attribute_values[attribute_value]\n",
    "    training_list_of_pheno_labels_by_int.append( value_code )\n",
    "\n",
    "training_list_of_pheno_labels_by_int[0:3]"
   ]
  },
  {
   "cell_type": "code",
   "execution_count": 805,
   "metadata": {},
   "outputs": [
    {
     "output_type": "execute_result",
     "data": {
      "text/plain": "array([[1., 0., 0., 0., 0., 0., 0., 0.],\n       [1., 0., 0., 0., 0., 0., 0., 0.],\n       [1., 0., 0., 0., 0., 0., 0., 0.]], dtype=float32)"
     },
     "metadata": {},
     "execution_count": 805
    }
   ],
   "source": [
    "# 将y_labels转为one-hot (0/1)表征\n",
    "# 从数字形态的类别变量转为one hot形态的类别变量\n",
    "# 第一类 --> 1 0 0 0 0; 第二类 --> 0 1 0 0 0\n",
    "# num_of_classes 属性的取值列表数目\n",
    "num_of_classes = len(codes_of_attribute_values)\n",
    "#\n",
    "training_list_of_pheno_labels_in_one_hot = to_categorical( training_list_of_pheno_labels_by_int, num_of_classes )\n",
    "#\n",
    "training_list_of_pheno_labels_in_one_hot[0:3]"
   ]
  },
  {
   "cell_type": "code",
   "execution_count": 806,
   "metadata": {},
   "outputs": [
    {
     "output_type": "execute_result",
     "data": {
      "text/plain": "(2876, 2876)"
     },
     "metadata": {},
     "execution_count": 806
    }
   ],
   "source": [
    "# 生成x_train, y_train / x_test, y_test [向量形式]\n",
    "# 注意，这是x_train和y_train的原始形式，可直接按之前的步骤进行训练\n",
    "# 但这是imbalance dataset, 所有可能需要imbalance learning技术\n",
    "x_train = np.array( new_training_list_of_pheno_vectors )\n",
    "y_train = training_list_of_pheno_labels_in_one_hot\n",
    "#\n",
    "len(x_train), len(y_train)"
   ]
  },
  {
   "cell_type": "code",
   "execution_count": 807,
   "metadata": {},
   "outputs": [
    {
     "output_type": "execute_result",
     "data": {
      "text/plain": "(2300, 2300, 2300)"
     },
     "metadata": {},
     "execution_count": 807
    }
   ],
   "source": [
    "# 保留一部分(20%)训练集数据作为验证集\n",
    "# 验证集要保留真实情况，不能用SMOTE\n",
    "# validation set\n",
    "# x\n",
    "split_ratio = 0.8\n",
    "split_index = int( len(x_train)*split_ratio )\n",
    "#\n",
    "partial_x_train = x_train[:split_index]\n",
    "x_val = x_train[split_index:]\n",
    "# y\n",
    "partial_y_train = y_train[:split_index]\n",
    "y_val = y_train[split_index:]\n",
    "# y_labels for partial_x_train\n",
    "partial_y_labels = new_training_list_of_pheno_labels[:split_index]\n",
    "#\n",
    "split_index, len( partial_y_labels ), len(partial_y_train)"
   ]
  },
  {
   "cell_type": "code",
   "execution_count": 808,
   "metadata": {},
   "outputs": [],
   "source": [
    "# 使用SMOTE技术平衡数据集\n",
    "smo = SMOTE(random_state=168, k_neighbors=3)"
   ]
  },
  {
   "cell_type": "code",
   "execution_count": 809,
   "metadata": {},
   "outputs": [
    {
     "output_type": "execute_result",
     "data": {
      "text/plain": "(2300, 2304)"
     },
     "metadata": {},
     "execution_count": 809
    }
   ],
   "source": [
    "# 对 partial_x_train, partial_y_train 进行重采样\n",
    "reshaped_x_train = partial_x_train.reshape( partial_x_train.shape[0],-1 )\n",
    "reshaped_x_train.shape"
   ]
  },
  {
   "cell_type": "code",
   "execution_count": 810,
   "metadata": {
    "tags": []
   },
   "outputs": [
    {
     "output_type": "stream",
     "name": "stdout",
     "text": "CPU times: user 244 ms, sys: 379 ms, total: 623 ms\nWall time: 620 ms\n"
    }
   ],
   "source": [
    "%%time\n",
    "# x_train 对应的标签是 new_training_list_of_pheno_labels\n",
    "resampled_x_train, resampled_y_labels = smo.fit_sample(reshaped_x_train, partial_y_labels)"
   ]
  },
  {
   "cell_type": "code",
   "execution_count": 811,
   "metadata": {},
   "outputs": [
    {
     "output_type": "execute_result",
     "data": {
      "text/plain": "Counter({'Temporal:None': 2230,\n         'Temporal:Acute': 2230,\n         'Temporal:Chronic': 2230})"
     },
     "metadata": {},
     "execution_count": 811
    }
   ],
   "source": [
    "Counter(resampled_y_labels)"
   ]
  },
  {
   "cell_type": "code",
   "execution_count": 812,
   "metadata": {},
   "outputs": [
    {
     "output_type": "execute_result",
     "data": {
      "text/plain": "(6690, 3, 768)"
     },
     "metadata": {},
     "execution_count": 812
    }
   ],
   "source": [
    "# reshape回来 \n",
    "new_x_train = resampled_x_train.reshape( ( resampled_x_train.shape[0], x_train.shape[1], x_train.shape[2] ) )\n",
    "new_x_train.shape"
   ]
  },
  {
   "cell_type": "code",
   "execution_count": 813,
   "metadata": {},
   "outputs": [
    {
     "output_type": "execute_result",
     "data": {
      "text/plain": "['Temporal:None', 'Temporal:None', 'Temporal:None']"
     },
     "metadata": {},
     "execution_count": 813
    }
   ],
   "source": [
    "resampled_y_labels[0:3]"
   ]
  },
  {
   "cell_type": "code",
   "execution_count": 814,
   "metadata": {},
   "outputs": [
    {
     "output_type": "execute_result",
     "data": {
      "text/plain": "[0, 0, 0]"
     },
     "metadata": {},
     "execution_count": 814
    }
   ],
   "source": [
    "# 再生成配套的new_y_train\n",
    "# 还是首先将 resampled_y_labels 转成 resampled_y_labels_as_int\n",
    "resampled_y_labels_as_int = []\n",
    "for label in resampled_y_labels:\n",
    "    attribute_value = label.split(':')[1]\n",
    "    value_code = codes_of_attribute_values[attribute_value]\n",
    "    resampled_y_labels_as_int.append( value_code )\n",
    "\n",
    "resampled_y_labels_as_int[0:3]\n"
   ]
  },
  {
   "cell_type": "code",
   "execution_count": 815,
   "metadata": {},
   "outputs": [],
   "source": [
    "# 再将 resampled_y_labels_as_int 转成 resampled_y_labels_as_onehot\n",
    "# 最后记录到 new_y_train 中\n",
    "resampled_y_labels_as_onehot = to_categorical( resampled_y_labels_as_int, num_of_classes )\n",
    "new_y_train = resampled_y_labels_as_onehot"
   ]
  },
  {
   "cell_type": "code",
   "execution_count": 816,
   "metadata": {},
   "outputs": [],
   "source": [
    "# 最后还是需要对所有数据进行训练，所有还是需要对所有数据进行一次重采样\n",
    "# 要不就提前把x_train, x_val, x_test分开，这样可能会方便一些"
   ]
  },
  {
   "cell_type": "code",
   "execution_count": 817,
   "metadata": {},
   "outputs": [
    {
     "output_type": "execute_result",
     "data": {
      "text/plain": "(2876, 2304)"
     },
     "metadata": {},
     "execution_count": 817
    }
   ],
   "source": [
    "# 对 x_train, y_train 进行重采样\n",
    "reshaped_x_train = x_train.reshape( x_train.shape[0],-1 )\n",
    "reshaped_x_train.shape"
   ]
  },
  {
   "cell_type": "code",
   "execution_count": 818,
   "metadata": {
    "tags": []
   },
   "outputs": [
    {
     "output_type": "stream",
     "name": "stdout",
     "text": "CPU times: user 295 ms, sys: 454 ms, total: 749 ms\nWall time: 745 ms\n"
    }
   ],
   "source": [
    "%%time\n",
    "# x_train 对应的标签是 new_training_list_of_pheno_labels\n",
    "resampled_x_train, resampled_y_labels = smo.fit_sample(reshaped_x_train, new_training_list_of_pheno_labels )"
   ]
  },
  {
   "cell_type": "code",
   "execution_count": 819,
   "metadata": {},
   "outputs": [
    {
     "output_type": "execute_result",
     "data": {
      "text/plain": "(8346, 3, 768)"
     },
     "metadata": {},
     "execution_count": 819
    }
   ],
   "source": [
    "# reshape回来 \n",
    "all_x_train = resampled_x_train.reshape( ( resampled_x_train.shape[0], x_train.shape[1], x_train.shape[2] ) )\n",
    "all_x_train.shape"
   ]
  },
  {
   "cell_type": "code",
   "execution_count": 820,
   "metadata": {},
   "outputs": [
    {
     "output_type": "execute_result",
     "data": {
      "text/plain": "[0, 0, 0]"
     },
     "metadata": {},
     "execution_count": 820
    }
   ],
   "source": [
    "# 再生成配套的new_y_train\n",
    "# 还是首先将 resampled_y_labels 转成 resampled_y_labels_as_int\n",
    "resampled_y_labels_as_int = []\n",
    "for label in resampled_y_labels:\n",
    "    attribute_value = label.split(':')[1]\n",
    "    value_code = codes_of_attribute_values[attribute_value]\n",
    "    resampled_y_labels_as_int.append( value_code )\n",
    "\n",
    "resampled_y_labels_as_int[0:3]"
   ]
  },
  {
   "cell_type": "code",
   "execution_count": 821,
   "metadata": {},
   "outputs": [
    {
     "output_type": "execute_result",
     "data": {
      "text/plain": "8346"
     },
     "metadata": {},
     "execution_count": 821
    }
   ],
   "source": [
    "# 再将 resampled_y_labels_as_int 转成 resampled_y_labels_as_onehot\n",
    "# 最后记录到 new_y_train 中\n",
    "resampled_y_labels_as_onehot = to_categorical( resampled_y_labels_as_int, num_of_classes )\n",
    "all_y_train = resampled_y_labels_as_onehot\n",
    "len( all_y_train )"
   ]
  },
  {
   "cell_type": "code",
   "execution_count": 822,
   "metadata": {},
   "outputs": [],
   "source": [
    "# 构建神经网络模型进行训练"
   ]
  },
  {
   "cell_type": "code",
   "execution_count": 823,
   "metadata": {},
   "outputs": [
    {
     "output_type": "execute_result",
     "data": {
      "text/plain": "(3, 768)"
     },
     "metadata": {},
     "execution_count": 823
    }
   ],
   "source": [
    "# input_shape 设置\n",
    "input_shape = x_train[0].shape\n",
    "input_shape"
   ]
  },
  {
   "cell_type": "code",
   "execution_count": 824,
   "metadata": {
    "tags": []
   },
   "outputs": [
    {
     "output_type": "stream",
     "name": "stdout",
     "text": "Model: \"sequential_53\"\n_________________________________________________________________\nLayer (type)                 Output Shape              Param #   \n=================================================================\nbidirectional_53 (Bidirectio (None, 3, 128)            426496    \n_________________________________________________________________\nseq_weighted_attention_49 (S (None, 128)               129       \n_________________________________________________________________\ndropout_44 (Dropout)         (None, 128)               0         \n_________________________________________________________________\ndense_53 (Dense)             (None, 8)                 1032      \n=================================================================\nTotal params: 427,657\nTrainable params: 427,657\nNon-trainable params: 0\n_________________________________________________________________\n"
    }
   ],
   "source": [
    "# 搭建网络\n",
    "# create model\n",
    "model = Sequential()\n",
    "# BiLSTM + Attention\n",
    "# 超参数 LSTM/GRU  神经元数目 32/64/128\n",
    "model.add( Bidirectional(LSTM(64, return_sequences=True), input_shape=input_shape) )\n",
    "model.add( SeqWeightedAttention() )\n",
    "model.add( Dropout(0.2) )\n",
    "# NN Output\n",
    "model.add( Dense(num_of_classes, activation='softmax') )\n",
    "#\n",
    "# compile model\n",
    "# 无论你的问题是什么， rmsprop 优化器通常都是足够好的选择\n",
    "# 超参数：除学习率可调整外，建议保持优化器的其他默认参数不变. default lr=0.001\n",
    "model.compile(optimizer='rmsprop', loss='categorical_crossentropy', metrics=['acc'])\n",
    "model.summary()"
   ]
  },
  {
   "cell_type": "code",
   "execution_count": 825,
   "metadata": {
    "tags": []
   },
   "outputs": [
    {
     "output_type": "stream",
     "name": "stdout",
     "text": "Train on 6690 samples, validate on 576 samples\nEpoch 1/10\n6690/6690 [==============================] - 9s 1ms/step - loss: 0.5061 - acc: 0.7970 - val_loss: 0.2898 - val_acc: 0.8889\nEpoch 2/10\n6690/6690 [==============================] - 1s 149us/step - loss: 0.1236 - acc: 0.9608 - val_loss: 0.2654 - val_acc: 0.9080\nEpoch 3/10\n6690/6690 [==============================] - 1s 136us/step - loss: 0.0659 - acc: 0.9795 - val_loss: 0.1894 - val_acc: 0.9497\nEpoch 4/10\n6690/6690 [==============================] - 1s 136us/step - loss: 0.0367 - acc: 0.9900 - val_loss: 0.2214 - val_acc: 0.9549\nEpoch 5/10\n6690/6690 [==============================] - 1s 136us/step - loss: 0.0190 - acc: 0.9954 - val_loss: 0.2435 - val_acc: 0.9566\nEpoch 6/10\n6690/6690 [==============================] - 1s 132us/step - loss: 0.0169 - acc: 0.9945 - val_loss: 0.3049 - val_acc: 0.9566\nEpoch 7/10\n6690/6690 [==============================] - 1s 139us/step - loss: 0.0144 - acc: 0.9960 - val_loss: 0.2867 - val_acc: 0.9583\nEpoch 8/10\n6690/6690 [==============================] - 1s 133us/step - loss: 0.0187 - acc: 0.9946 - val_loss: 0.3017 - val_acc: 0.9583\nEpoch 9/10\n6690/6690 [==============================] - 1s 137us/step - loss: 0.0070 - acc: 0.9984 - val_loss: 0.3337 - val_acc: 0.9531\nEpoch 10/10\n6690/6690 [==============================] - 1s 132us/step - loss: 0.0061 - acc: 0.9988 - val_loss: 0.3816 - val_acc: 0.9566\n"
    }
   ],
   "source": [
    "# training model \n",
    "# 超参数: epochs, batch_size (32常用、64、128、256都比较合适)\n",
    "# 要选择合适的Epochs，就可以用early stopping的方法\n",
    "history = model.fit( new_x_train, new_y_train, epochs=10, batch_size=64, validation_data=(x_val, y_val) )"
   ]
  },
  {
   "cell_type": "code",
   "execution_count": 826,
   "metadata": {},
   "outputs": [
    {
     "output_type": "display_data",
     "data": {
      "text/plain": "<Figure size 432x288 with 1 Axes>",
      "image/svg+xml": "<?xml version=\"1.0\" encoding=\"utf-8\" standalone=\"no\"?>\n<!DOCTYPE svg PUBLIC \"-//W3C//DTD SVG 1.1//EN\"\n  \"http://www.w3.org/Graphics/SVG/1.1/DTD/svg11.dtd\">\n<!-- Created with matplotlib (https://matplotlib.org/) -->\n<svg height=\"277.314375pt\" version=\"1.1\" viewBox=\"0 0 385.78125 277.314375\" width=\"385.78125pt\" xmlns=\"http://www.w3.org/2000/svg\" xmlns:xlink=\"http://www.w3.org/1999/xlink\">\n <metadata>\n  <rdf:RDF xmlns:cc=\"http://creativecommons.org/ns#\" xmlns:dc=\"http://purl.org/dc/elements/1.1/\" xmlns:rdf=\"http://www.w3.org/1999/02/22-rdf-syntax-ns#\">\n   <cc:Work>\n    <dc:type rdf:resource=\"http://purl.org/dc/dcmitype/StillImage\"/>\n    <dc:date>2020-08-27T14:48:46.873599</dc:date>\n    <dc:format>image/svg+xml</dc:format>\n    <dc:creator>\n     <cc:Agent>\n      <dc:title>Matplotlib v3.3.0, https://matplotlib.org/</dc:title>\n     </cc:Agent>\n    </dc:creator>\n   </cc:Work>\n  </rdf:RDF>\n </metadata>\n <defs>\n  <style type=\"text/css\">*{stroke-linecap:butt;stroke-linejoin:round;}</style>\n </defs>\n <g id=\"figure_1\">\n  <g id=\"patch_1\">\n   <path d=\"M 0 277.314375 \nL 385.78125 277.314375 \nL 385.78125 0 \nL 0 0 \nz\n\" style=\"fill:none;\"/>\n  </g>\n  <g id=\"axes_1\">\n   <g id=\"patch_2\">\n    <path d=\"M 43.78125 239.758125 \nL 378.58125 239.758125 \nL 378.58125 22.318125 \nL 43.78125 22.318125 \nz\n\" style=\"fill:#ffffff;\"/>\n   </g>\n   <g id=\"matplotlib.axis_1\">\n    <g id=\"xtick_1\">\n     <g id=\"line2d_1\">\n      <defs>\n       <path d=\"M 0 0 \nL 0 3.5 \n\" id=\"m046bd29c93\" style=\"stroke:#000000;stroke-width:0.8;\"/>\n      </defs>\n      <g>\n       <use style=\"stroke:#000000;stroke-width:0.8;\" x=\"92.817614\" xlink:href=\"#m046bd29c93\" y=\"239.758125\"/>\n      </g>\n     </g>\n     <g id=\"text_1\">\n      <!-- 2 -->\n      <g transform=\"translate(89.636364 254.356562)scale(0.1 -0.1)\">\n       <defs>\n        <path d=\"M 19.1875 8.296875 \nL 53.609375 8.296875 \nL 53.609375 0 \nL 7.328125 0 \nL 7.328125 8.296875 \nQ 12.9375 14.109375 22.625 23.890625 \nQ 32.328125 33.6875 34.8125 36.53125 \nQ 39.546875 41.84375 41.421875 45.53125 \nQ 43.3125 49.21875 43.3125 52.78125 \nQ 43.3125 58.59375 39.234375 62.25 \nQ 35.15625 65.921875 28.609375 65.921875 \nQ 23.96875 65.921875 18.8125 64.3125 \nQ 13.671875 62.703125 7.8125 59.421875 \nL 7.8125 69.390625 \nQ 13.765625 71.78125 18.9375 73 \nQ 24.125 74.21875 28.421875 74.21875 \nQ 39.75 74.21875 46.484375 68.546875 \nQ 53.21875 62.890625 53.21875 53.421875 \nQ 53.21875 48.921875 51.53125 44.890625 \nQ 49.859375 40.875 45.40625 35.40625 \nQ 44.1875 33.984375 37.640625 27.21875 \nQ 31.109375 20.453125 19.1875 8.296875 \nz\n\" id=\"DejaVuSans-50\"/>\n       </defs>\n       <use xlink:href=\"#DejaVuSans-50\"/>\n      </g>\n     </g>\n    </g>\n    <g id=\"xtick_2\">\n     <g id=\"line2d_2\">\n      <g>\n       <use style=\"stroke:#000000;stroke-width:0.8;\" x=\"160.453977\" xlink:href=\"#m046bd29c93\" y=\"239.758125\"/>\n      </g>\n     </g>\n     <g id=\"text_2\">\n      <!-- 4 -->\n      <g transform=\"translate(157.272727 254.356562)scale(0.1 -0.1)\">\n       <defs>\n        <path d=\"M 37.796875 64.3125 \nL 12.890625 25.390625 \nL 37.796875 25.390625 \nz\nM 35.203125 72.90625 \nL 47.609375 72.90625 \nL 47.609375 25.390625 \nL 58.015625 25.390625 \nL 58.015625 17.1875 \nL 47.609375 17.1875 \nL 47.609375 0 \nL 37.796875 0 \nL 37.796875 17.1875 \nL 4.890625 17.1875 \nL 4.890625 26.703125 \nz\n\" id=\"DejaVuSans-52\"/>\n       </defs>\n       <use xlink:href=\"#DejaVuSans-52\"/>\n      </g>\n     </g>\n    </g>\n    <g id=\"xtick_3\">\n     <g id=\"line2d_3\">\n      <g>\n       <use style=\"stroke:#000000;stroke-width:0.8;\" x=\"228.090341\" xlink:href=\"#m046bd29c93\" y=\"239.758125\"/>\n      </g>\n     </g>\n     <g id=\"text_3\">\n      <!-- 6 -->\n      <g transform=\"translate(224.909091 254.356562)scale(0.1 -0.1)\">\n       <defs>\n        <path d=\"M 33.015625 40.375 \nQ 26.375 40.375 22.484375 35.828125 \nQ 18.609375 31.296875 18.609375 23.390625 \nQ 18.609375 15.53125 22.484375 10.953125 \nQ 26.375 6.390625 33.015625 6.390625 \nQ 39.65625 6.390625 43.53125 10.953125 \nQ 47.40625 15.53125 47.40625 23.390625 \nQ 47.40625 31.296875 43.53125 35.828125 \nQ 39.65625 40.375 33.015625 40.375 \nz\nM 52.59375 71.296875 \nL 52.59375 62.3125 \nQ 48.875 64.0625 45.09375 64.984375 \nQ 41.3125 65.921875 37.59375 65.921875 \nQ 27.828125 65.921875 22.671875 59.328125 \nQ 17.53125 52.734375 16.796875 39.40625 \nQ 19.671875 43.65625 24.015625 45.921875 \nQ 28.375 48.1875 33.59375 48.1875 \nQ 44.578125 48.1875 50.953125 41.515625 \nQ 57.328125 34.859375 57.328125 23.390625 \nQ 57.328125 12.15625 50.6875 5.359375 \nQ 44.046875 -1.421875 33.015625 -1.421875 \nQ 20.359375 -1.421875 13.671875 8.265625 \nQ 6.984375 17.96875 6.984375 36.375 \nQ 6.984375 53.65625 15.1875 63.9375 \nQ 23.390625 74.21875 37.203125 74.21875 \nQ 40.921875 74.21875 44.703125 73.484375 \nQ 48.484375 72.75 52.59375 71.296875 \nz\n\" id=\"DejaVuSans-54\"/>\n       </defs>\n       <use xlink:href=\"#DejaVuSans-54\"/>\n      </g>\n     </g>\n    </g>\n    <g id=\"xtick_4\">\n     <g id=\"line2d_4\">\n      <g>\n       <use style=\"stroke:#000000;stroke-width:0.8;\" x=\"295.726705\" xlink:href=\"#m046bd29c93\" y=\"239.758125\"/>\n      </g>\n     </g>\n     <g id=\"text_4\">\n      <!-- 8 -->\n      <g transform=\"translate(292.545455 254.356562)scale(0.1 -0.1)\">\n       <defs>\n        <path d=\"M 31.78125 34.625 \nQ 24.75 34.625 20.71875 30.859375 \nQ 16.703125 27.09375 16.703125 20.515625 \nQ 16.703125 13.921875 20.71875 10.15625 \nQ 24.75 6.390625 31.78125 6.390625 \nQ 38.8125 6.390625 42.859375 10.171875 \nQ 46.921875 13.96875 46.921875 20.515625 \nQ 46.921875 27.09375 42.890625 30.859375 \nQ 38.875 34.625 31.78125 34.625 \nz\nM 21.921875 38.8125 \nQ 15.578125 40.375 12.03125 44.71875 \nQ 8.5 49.078125 8.5 55.328125 \nQ 8.5 64.0625 14.71875 69.140625 \nQ 20.953125 74.21875 31.78125 74.21875 \nQ 42.671875 74.21875 48.875 69.140625 \nQ 55.078125 64.0625 55.078125 55.328125 \nQ 55.078125 49.078125 51.53125 44.71875 \nQ 48 40.375 41.703125 38.8125 \nQ 48.828125 37.15625 52.796875 32.3125 \nQ 56.78125 27.484375 56.78125 20.515625 \nQ 56.78125 9.90625 50.3125 4.234375 \nQ 43.84375 -1.421875 31.78125 -1.421875 \nQ 19.734375 -1.421875 13.25 4.234375 \nQ 6.78125 9.90625 6.78125 20.515625 \nQ 6.78125 27.484375 10.78125 32.3125 \nQ 14.796875 37.15625 21.921875 38.8125 \nz\nM 18.3125 54.390625 \nQ 18.3125 48.734375 21.84375 45.5625 \nQ 25.390625 42.390625 31.78125 42.390625 \nQ 38.140625 42.390625 41.71875 45.5625 \nQ 45.3125 48.734375 45.3125 54.390625 \nQ 45.3125 60.0625 41.71875 63.234375 \nQ 38.140625 66.40625 31.78125 66.40625 \nQ 25.390625 66.40625 21.84375 63.234375 \nQ 18.3125 60.0625 18.3125 54.390625 \nz\n\" id=\"DejaVuSans-56\"/>\n       </defs>\n       <use xlink:href=\"#DejaVuSans-56\"/>\n      </g>\n     </g>\n    </g>\n    <g id=\"xtick_5\">\n     <g id=\"line2d_5\">\n      <g>\n       <use style=\"stroke:#000000;stroke-width:0.8;\" x=\"363.363068\" xlink:href=\"#m046bd29c93\" y=\"239.758125\"/>\n      </g>\n     </g>\n     <g id=\"text_5\">\n      <!-- 10 -->\n      <g transform=\"translate(357.000568 254.356562)scale(0.1 -0.1)\">\n       <defs>\n        <path d=\"M 12.40625 8.296875 \nL 28.515625 8.296875 \nL 28.515625 63.921875 \nL 10.984375 60.40625 \nL 10.984375 69.390625 \nL 28.421875 72.90625 \nL 38.28125 72.90625 \nL 38.28125 8.296875 \nL 54.390625 8.296875 \nL 54.390625 0 \nL 12.40625 0 \nz\n\" id=\"DejaVuSans-49\"/>\n        <path d=\"M 31.78125 66.40625 \nQ 24.171875 66.40625 20.328125 58.90625 \nQ 16.5 51.421875 16.5 36.375 \nQ 16.5 21.390625 20.328125 13.890625 \nQ 24.171875 6.390625 31.78125 6.390625 \nQ 39.453125 6.390625 43.28125 13.890625 \nQ 47.125 21.390625 47.125 36.375 \nQ 47.125 51.421875 43.28125 58.90625 \nQ 39.453125 66.40625 31.78125 66.40625 \nz\nM 31.78125 74.21875 \nQ 44.046875 74.21875 50.515625 64.515625 \nQ 56.984375 54.828125 56.984375 36.375 \nQ 56.984375 17.96875 50.515625 8.265625 \nQ 44.046875 -1.421875 31.78125 -1.421875 \nQ 19.53125 -1.421875 13.0625 8.265625 \nQ 6.59375 17.96875 6.59375 36.375 \nQ 6.59375 54.828125 13.0625 64.515625 \nQ 19.53125 74.21875 31.78125 74.21875 \nz\n\" id=\"DejaVuSans-48\"/>\n       </defs>\n       <use xlink:href=\"#DejaVuSans-49\"/>\n       <use x=\"63.623047\" xlink:href=\"#DejaVuSans-48\"/>\n      </g>\n     </g>\n    </g>\n    <g id=\"text_6\">\n     <!-- epochs -->\n     <g transform=\"translate(193.348438 268.034687)scale(0.1 -0.1)\">\n      <defs>\n       <path d=\"M 56.203125 29.59375 \nL 56.203125 25.203125 \nL 14.890625 25.203125 \nQ 15.484375 15.921875 20.484375 11.0625 \nQ 25.484375 6.203125 34.421875 6.203125 \nQ 39.59375 6.203125 44.453125 7.46875 \nQ 49.3125 8.734375 54.109375 11.28125 \nL 54.109375 2.78125 \nQ 49.265625 0.734375 44.1875 -0.34375 \nQ 39.109375 -1.421875 33.890625 -1.421875 \nQ 20.796875 -1.421875 13.15625 6.1875 \nQ 5.515625 13.8125 5.515625 26.8125 \nQ 5.515625 40.234375 12.765625 48.109375 \nQ 20.015625 56 32.328125 56 \nQ 43.359375 56 49.78125 48.890625 \nQ 56.203125 41.796875 56.203125 29.59375 \nz\nM 47.21875 32.234375 \nQ 47.125 39.59375 43.09375 43.984375 \nQ 39.0625 48.390625 32.421875 48.390625 \nQ 24.90625 48.390625 20.390625 44.140625 \nQ 15.875 39.890625 15.1875 32.171875 \nz\n\" id=\"DejaVuSans-101\"/>\n       <path d=\"M 18.109375 8.203125 \nL 18.109375 -20.796875 \nL 9.078125 -20.796875 \nL 9.078125 54.6875 \nL 18.109375 54.6875 \nL 18.109375 46.390625 \nQ 20.953125 51.265625 25.265625 53.625 \nQ 29.59375 56 35.59375 56 \nQ 45.5625 56 51.78125 48.09375 \nQ 58.015625 40.1875 58.015625 27.296875 \nQ 58.015625 14.40625 51.78125 6.484375 \nQ 45.5625 -1.421875 35.59375 -1.421875 \nQ 29.59375 -1.421875 25.265625 0.953125 \nQ 20.953125 3.328125 18.109375 8.203125 \nz\nM 48.6875 27.296875 \nQ 48.6875 37.203125 44.609375 42.84375 \nQ 40.53125 48.484375 33.40625 48.484375 \nQ 26.265625 48.484375 22.1875 42.84375 \nQ 18.109375 37.203125 18.109375 27.296875 \nQ 18.109375 17.390625 22.1875 11.75 \nQ 26.265625 6.109375 33.40625 6.109375 \nQ 40.53125 6.109375 44.609375 11.75 \nQ 48.6875 17.390625 48.6875 27.296875 \nz\n\" id=\"DejaVuSans-112\"/>\n       <path d=\"M 30.609375 48.390625 \nQ 23.390625 48.390625 19.1875 42.75 \nQ 14.984375 37.109375 14.984375 27.296875 \nQ 14.984375 17.484375 19.15625 11.84375 \nQ 23.34375 6.203125 30.609375 6.203125 \nQ 37.796875 6.203125 41.984375 11.859375 \nQ 46.1875 17.53125 46.1875 27.296875 \nQ 46.1875 37.015625 41.984375 42.703125 \nQ 37.796875 48.390625 30.609375 48.390625 \nz\nM 30.609375 56 \nQ 42.328125 56 49.015625 48.375 \nQ 55.71875 40.765625 55.71875 27.296875 \nQ 55.71875 13.875 49.015625 6.21875 \nQ 42.328125 -1.421875 30.609375 -1.421875 \nQ 18.84375 -1.421875 12.171875 6.21875 \nQ 5.515625 13.875 5.515625 27.296875 \nQ 5.515625 40.765625 12.171875 48.375 \nQ 18.84375 56 30.609375 56 \nz\n\" id=\"DejaVuSans-111\"/>\n       <path d=\"M 48.78125 52.59375 \nL 48.78125 44.1875 \nQ 44.96875 46.296875 41.140625 47.34375 \nQ 37.3125 48.390625 33.40625 48.390625 \nQ 24.65625 48.390625 19.8125 42.84375 \nQ 14.984375 37.3125 14.984375 27.296875 \nQ 14.984375 17.28125 19.8125 11.734375 \nQ 24.65625 6.203125 33.40625 6.203125 \nQ 37.3125 6.203125 41.140625 7.25 \nQ 44.96875 8.296875 48.78125 10.40625 \nL 48.78125 2.09375 \nQ 45.015625 0.34375 40.984375 -0.53125 \nQ 36.96875 -1.421875 32.421875 -1.421875 \nQ 20.0625 -1.421875 12.78125 6.34375 \nQ 5.515625 14.109375 5.515625 27.296875 \nQ 5.515625 40.671875 12.859375 48.328125 \nQ 20.21875 56 33.015625 56 \nQ 37.15625 56 41.109375 55.140625 \nQ 45.0625 54.296875 48.78125 52.59375 \nz\n\" id=\"DejaVuSans-99\"/>\n       <path d=\"M 54.890625 33.015625 \nL 54.890625 0 \nL 45.90625 0 \nL 45.90625 32.71875 \nQ 45.90625 40.484375 42.875 44.328125 \nQ 39.84375 48.1875 33.796875 48.1875 \nQ 26.515625 48.1875 22.3125 43.546875 \nQ 18.109375 38.921875 18.109375 30.90625 \nL 18.109375 0 \nL 9.078125 0 \nL 9.078125 75.984375 \nL 18.109375 75.984375 \nL 18.109375 46.1875 \nQ 21.34375 51.125 25.703125 53.5625 \nQ 30.078125 56 35.796875 56 \nQ 45.21875 56 50.046875 50.171875 \nQ 54.890625 44.34375 54.890625 33.015625 \nz\n\" id=\"DejaVuSans-104\"/>\n       <path d=\"M 44.28125 53.078125 \nL 44.28125 44.578125 \nQ 40.484375 46.53125 36.375 47.5 \nQ 32.28125 48.484375 27.875 48.484375 \nQ 21.1875 48.484375 17.84375 46.4375 \nQ 14.5 44.390625 14.5 40.28125 \nQ 14.5 37.15625 16.890625 35.375 \nQ 19.28125 33.59375 26.515625 31.984375 \nL 29.59375 31.296875 \nQ 39.15625 29.25 43.1875 25.515625 \nQ 47.21875 21.78125 47.21875 15.09375 \nQ 47.21875 7.46875 41.1875 3.015625 \nQ 35.15625 -1.421875 24.609375 -1.421875 \nQ 20.21875 -1.421875 15.453125 -0.5625 \nQ 10.6875 0.296875 5.421875 2 \nL 5.421875 11.28125 \nQ 10.40625 8.6875 15.234375 7.390625 \nQ 20.0625 6.109375 24.8125 6.109375 \nQ 31.15625 6.109375 34.5625 8.28125 \nQ 37.984375 10.453125 37.984375 14.40625 \nQ 37.984375 18.0625 35.515625 20.015625 \nQ 33.0625 21.96875 24.703125 23.78125 \nL 21.578125 24.515625 \nQ 13.234375 26.265625 9.515625 29.90625 \nQ 5.8125 33.546875 5.8125 39.890625 \nQ 5.8125 47.609375 11.28125 51.796875 \nQ 16.75 56 26.8125 56 \nQ 31.78125 56 36.171875 55.265625 \nQ 40.578125 54.546875 44.28125 53.078125 \nz\n\" id=\"DejaVuSans-115\"/>\n      </defs>\n      <use xlink:href=\"#DejaVuSans-101\"/>\n      <use x=\"61.523438\" xlink:href=\"#DejaVuSans-112\"/>\n      <use x=\"125\" xlink:href=\"#DejaVuSans-111\"/>\n      <use x=\"186.181641\" xlink:href=\"#DejaVuSans-99\"/>\n      <use x=\"241.162109\" xlink:href=\"#DejaVuSans-104\"/>\n      <use x=\"304.541016\" xlink:href=\"#DejaVuSans-115\"/>\n     </g>\n    </g>\n   </g>\n   <g id=\"matplotlib.axis_2\">\n    <g id=\"ytick_1\">\n     <g id=\"line2d_6\">\n      <defs>\n       <path d=\"M 0 0 \nL -3.5 0 \n\" id=\"m614516b7c9\" style=\"stroke:#000000;stroke-width:0.8;\"/>\n      </defs>\n      <g>\n       <use style=\"stroke:#000000;stroke-width:0.8;\" x=\"43.78125\" xlink:href=\"#m614516b7c9\" y=\"232.304122\"/>\n      </g>\n     </g>\n     <g id=\"text_7\">\n      <!-- 0.0 -->\n      <g transform=\"translate(20.878125 236.103341)scale(0.1 -0.1)\">\n       <defs>\n        <path d=\"M 10.6875 12.40625 \nL 21 12.40625 \nL 21 0 \nL 10.6875 0 \nz\n\" id=\"DejaVuSans-46\"/>\n       </defs>\n       <use xlink:href=\"#DejaVuSans-48\"/>\n       <use x=\"63.623047\" xlink:href=\"#DejaVuSans-46\"/>\n       <use x=\"95.410156\" xlink:href=\"#DejaVuSans-48\"/>\n      </g>\n     </g>\n    </g>\n    <g id=\"ytick_2\">\n     <g id=\"line2d_7\">\n      <g>\n       <use style=\"stroke:#000000;stroke-width:0.8;\" x=\"43.78125\" xlink:href=\"#m614516b7c9\" y=\"192.766093\"/>\n      </g>\n     </g>\n     <g id=\"text_8\">\n      <!-- 0.1 -->\n      <g transform=\"translate(20.878125 196.565312)scale(0.1 -0.1)\">\n       <use xlink:href=\"#DejaVuSans-48\"/>\n       <use x=\"63.623047\" xlink:href=\"#DejaVuSans-46\"/>\n       <use x=\"95.410156\" xlink:href=\"#DejaVuSans-49\"/>\n      </g>\n     </g>\n    </g>\n    <g id=\"ytick_3\">\n     <g id=\"line2d_8\">\n      <g>\n       <use style=\"stroke:#000000;stroke-width:0.8;\" x=\"43.78125\" xlink:href=\"#m614516b7c9\" y=\"153.228064\"/>\n      </g>\n     </g>\n     <g id=\"text_9\">\n      <!-- 0.2 -->\n      <g transform=\"translate(20.878125 157.027283)scale(0.1 -0.1)\">\n       <use xlink:href=\"#DejaVuSans-48\"/>\n       <use x=\"63.623047\" xlink:href=\"#DejaVuSans-46\"/>\n       <use x=\"95.410156\" xlink:href=\"#DejaVuSans-50\"/>\n      </g>\n     </g>\n    </g>\n    <g id=\"ytick_4\">\n     <g id=\"line2d_9\">\n      <g>\n       <use style=\"stroke:#000000;stroke-width:0.8;\" x=\"43.78125\" xlink:href=\"#m614516b7c9\" y=\"113.690035\"/>\n      </g>\n     </g>\n     <g id=\"text_10\">\n      <!-- 0.3 -->\n      <g transform=\"translate(20.878125 117.489254)scale(0.1 -0.1)\">\n       <defs>\n        <path d=\"M 40.578125 39.3125 \nQ 47.65625 37.796875 51.625 33 \nQ 55.609375 28.21875 55.609375 21.1875 \nQ 55.609375 10.40625 48.1875 4.484375 \nQ 40.765625 -1.421875 27.09375 -1.421875 \nQ 22.515625 -1.421875 17.65625 -0.515625 \nQ 12.796875 0.390625 7.625 2.203125 \nL 7.625 11.71875 \nQ 11.71875 9.328125 16.59375 8.109375 \nQ 21.484375 6.890625 26.8125 6.890625 \nQ 36.078125 6.890625 40.9375 10.546875 \nQ 45.796875 14.203125 45.796875 21.1875 \nQ 45.796875 27.640625 41.28125 31.265625 \nQ 36.765625 34.90625 28.71875 34.90625 \nL 20.21875 34.90625 \nL 20.21875 43.015625 \nL 29.109375 43.015625 \nQ 36.375 43.015625 40.234375 45.921875 \nQ 44.09375 48.828125 44.09375 54.296875 \nQ 44.09375 59.90625 40.109375 62.90625 \nQ 36.140625 65.921875 28.71875 65.921875 \nQ 24.65625 65.921875 20.015625 65.03125 \nQ 15.375 64.15625 9.8125 62.3125 \nL 9.8125 71.09375 \nQ 15.4375 72.65625 20.34375 73.4375 \nQ 25.25 74.21875 29.59375 74.21875 \nQ 40.828125 74.21875 47.359375 69.109375 \nQ 53.90625 64.015625 53.90625 55.328125 \nQ 53.90625 49.265625 50.4375 45.09375 \nQ 46.96875 40.921875 40.578125 39.3125 \nz\n\" id=\"DejaVuSans-51\"/>\n       </defs>\n       <use xlink:href=\"#DejaVuSans-48\"/>\n       <use x=\"63.623047\" xlink:href=\"#DejaVuSans-46\"/>\n       <use x=\"95.410156\" xlink:href=\"#DejaVuSans-51\"/>\n      </g>\n     </g>\n    </g>\n    <g id=\"ytick_5\">\n     <g id=\"line2d_10\">\n      <g>\n       <use style=\"stroke:#000000;stroke-width:0.8;\" x=\"43.78125\" xlink:href=\"#m614516b7c9\" y=\"74.152006\"/>\n      </g>\n     </g>\n     <g id=\"text_11\">\n      <!-- 0.4 -->\n      <g transform=\"translate(20.878125 77.951225)scale(0.1 -0.1)\">\n       <use xlink:href=\"#DejaVuSans-48\"/>\n       <use x=\"63.623047\" xlink:href=\"#DejaVuSans-46\"/>\n       <use x=\"95.410156\" xlink:href=\"#DejaVuSans-52\"/>\n      </g>\n     </g>\n    </g>\n    <g id=\"ytick_6\">\n     <g id=\"line2d_11\">\n      <g>\n       <use style=\"stroke:#000000;stroke-width:0.8;\" x=\"43.78125\" xlink:href=\"#m614516b7c9\" y=\"34.613977\"/>\n      </g>\n     </g>\n     <g id=\"text_12\">\n      <!-- 0.5 -->\n      <g transform=\"translate(20.878125 38.413196)scale(0.1 -0.1)\">\n       <defs>\n        <path d=\"M 10.796875 72.90625 \nL 49.515625 72.90625 \nL 49.515625 64.59375 \nL 19.828125 64.59375 \nL 19.828125 46.734375 \nQ 21.96875 47.46875 24.109375 47.828125 \nQ 26.265625 48.1875 28.421875 48.1875 \nQ 40.625 48.1875 47.75 41.5 \nQ 54.890625 34.8125 54.890625 23.390625 \nQ 54.890625 11.625 47.5625 5.09375 \nQ 40.234375 -1.421875 26.90625 -1.421875 \nQ 22.3125 -1.421875 17.546875 -0.640625 \nQ 12.796875 0.140625 7.71875 1.703125 \nL 7.71875 11.625 \nQ 12.109375 9.234375 16.796875 8.0625 \nQ 21.484375 6.890625 26.703125 6.890625 \nQ 35.15625 6.890625 40.078125 11.328125 \nQ 45.015625 15.765625 45.015625 23.390625 \nQ 45.015625 31 40.078125 35.4375 \nQ 35.15625 39.890625 26.703125 39.890625 \nQ 22.75 39.890625 18.8125 39.015625 \nQ 14.890625 38.140625 10.796875 36.28125 \nz\n\" id=\"DejaVuSans-53\"/>\n       </defs>\n       <use xlink:href=\"#DejaVuSans-48\"/>\n       <use x=\"63.623047\" xlink:href=\"#DejaVuSans-46\"/>\n       <use x=\"95.410156\" xlink:href=\"#DejaVuSans-53\"/>\n      </g>\n     </g>\n    </g>\n    <g id=\"text_13\">\n     <!-- loss -->\n     <g transform=\"translate(14.798438 140.695937)rotate(-90)scale(0.1 -0.1)\">\n      <defs>\n       <path d=\"M 9.421875 75.984375 \nL 18.40625 75.984375 \nL 18.40625 0 \nL 9.421875 0 \nz\n\" id=\"DejaVuSans-108\"/>\n      </defs>\n      <use xlink:href=\"#DejaVuSans-108\"/>\n      <use x=\"27.783203\" xlink:href=\"#DejaVuSans-111\"/>\n      <use x=\"88.964844\" xlink:href=\"#DejaVuSans-115\"/>\n      <use x=\"141.064453\" xlink:href=\"#DejaVuSans-115\"/>\n     </g>\n    </g>\n   </g>\n   <g id=\"line2d_12\">\n    <defs>\n     <path d=\"M 0 3 \nC 0.795609 3 1.55874 2.683901 2.12132 2.12132 \nC 2.683901 1.55874 3 0.795609 3 0 \nC 3 -0.795609 2.683901 -1.55874 2.12132 -2.12132 \nC 1.55874 -2.683901 0.795609 -3 0 -3 \nC -0.795609 -3 -1.55874 -2.683901 -2.12132 -2.12132 \nC -2.683901 -1.55874 -3 -0.795609 -3 0 \nC -3 0.795609 -2.683901 1.55874 -2.12132 2.12132 \nC -1.55874 2.683901 -0.795609 3 0 3 \nz\n\" id=\"m4e6b2e5b04\" style=\"stroke:#0000ff;\"/>\n    </defs>\n    <g clip-path=\"url(#pf19b4b48cc)\">\n     <use style=\"fill:#0000ff;stroke:#0000ff;\" x=\"58.999432\" xlink:href=\"#m4e6b2e5b04\" y=\"32.201761\"/>\n     <use style=\"fill:#0000ff;stroke:#0000ff;\" x=\"92.817614\" xlink:href=\"#m4e6b2e5b04\" y=\"183.432031\"/>\n     <use style=\"fill:#0000ff;stroke:#0000ff;\" x=\"126.635795\" xlink:href=\"#m4e6b2e5b04\" y=\"206.241691\"/>\n     <use style=\"fill:#0000ff;stroke:#0000ff;\" x=\"160.453977\" xlink:href=\"#m4e6b2e5b04\" y=\"217.796137\"/>\n     <use style=\"fill:#0000ff;stroke:#0000ff;\" x=\"194.272159\" xlink:href=\"#m4e6b2e5b04\" y=\"224.795381\"/>\n     <use style=\"fill:#0000ff;stroke:#0000ff;\" x=\"228.090341\" xlink:href=\"#m4e6b2e5b04\" y=\"225.619866\"/>\n     <use style=\"fill:#0000ff;stroke:#0000ff;\" x=\"261.908523\" xlink:href=\"#m4e6b2e5b04\" y=\"226.62348\"/>\n     <use style=\"fill:#0000ff;stroke:#0000ff;\" x=\"295.726705\" xlink:href=\"#m4e6b2e5b04\" y=\"224.913771\"/>\n     <use style=\"fill:#0000ff;stroke:#0000ff;\" x=\"329.544886\" xlink:href=\"#m4e6b2e5b04\" y=\"229.539138\"/>\n     <use style=\"fill:#0000ff;stroke:#0000ff;\" x=\"363.363068\" xlink:href=\"#m4e6b2e5b04\" y=\"229.874489\"/>\n    </g>\n   </g>\n   <g id=\"line2d_13\">\n    <path clip-path=\"url(#pf19b4b48cc)\" d=\"M 58.999432 117.724851 \nL 92.817614 127.365211 \nL 126.635795 157.424501 \nL 160.453977 144.756046 \nL 194.272159 136.045063 \nL 228.090341 111.768495 \nL 261.908523 118.963501 \nL 295.726705 113.026264 \nL 329.544886 100.349704 \nL 363.363068 81.443154 \n\" style=\"fill:none;stroke:#0000ff;stroke-linecap:square;stroke-width:1.5;\"/>\n   </g>\n   <g id=\"patch_3\">\n    <path d=\"M 43.78125 239.758125 \nL 43.78125 22.318125 \n\" style=\"fill:none;stroke:#000000;stroke-linecap:square;stroke-linejoin:miter;stroke-width:0.8;\"/>\n   </g>\n   <g id=\"patch_4\">\n    <path d=\"M 378.58125 239.758125 \nL 378.58125 22.318125 \n\" style=\"fill:none;stroke:#000000;stroke-linecap:square;stroke-linejoin:miter;stroke-width:0.8;\"/>\n   </g>\n   <g id=\"patch_5\">\n    <path d=\"M 43.78125 239.758125 \nL 378.58125 239.758125 \n\" style=\"fill:none;stroke:#000000;stroke-linecap:square;stroke-linejoin:miter;stroke-width:0.8;\"/>\n   </g>\n   <g id=\"patch_6\">\n    <path d=\"M 43.78125 22.318125 \nL 378.58125 22.318125 \n\" style=\"fill:none;stroke:#000000;stroke-linecap:square;stroke-linejoin:miter;stroke-width:0.8;\"/>\n   </g>\n   <g id=\"text_14\">\n    <!-- training and validation loss -->\n    <g transform=\"translate(129.79875 16.318125)scale(0.12 -0.12)\">\n     <defs>\n      <path d=\"M 18.3125 70.21875 \nL 18.3125 54.6875 \nL 36.8125 54.6875 \nL 36.8125 47.703125 \nL 18.3125 47.703125 \nL 18.3125 18.015625 \nQ 18.3125 11.328125 20.140625 9.421875 \nQ 21.96875 7.515625 27.59375 7.515625 \nL 36.8125 7.515625 \nL 36.8125 0 \nL 27.59375 0 \nQ 17.1875 0 13.234375 3.875 \nQ 9.28125 7.765625 9.28125 18.015625 \nL 9.28125 47.703125 \nL 2.6875 47.703125 \nL 2.6875 54.6875 \nL 9.28125 54.6875 \nL 9.28125 70.21875 \nz\n\" id=\"DejaVuSans-116\"/>\n      <path d=\"M 41.109375 46.296875 \nQ 39.59375 47.171875 37.8125 47.578125 \nQ 36.03125 48 33.890625 48 \nQ 26.265625 48 22.1875 43.046875 \nQ 18.109375 38.09375 18.109375 28.8125 \nL 18.109375 0 \nL 9.078125 0 \nL 9.078125 54.6875 \nL 18.109375 54.6875 \nL 18.109375 46.1875 \nQ 20.953125 51.171875 25.484375 53.578125 \nQ 30.03125 56 36.53125 56 \nQ 37.453125 56 38.578125 55.875 \nQ 39.703125 55.765625 41.0625 55.515625 \nz\n\" id=\"DejaVuSans-114\"/>\n      <path d=\"M 34.28125 27.484375 \nQ 23.390625 27.484375 19.1875 25 \nQ 14.984375 22.515625 14.984375 16.5 \nQ 14.984375 11.71875 18.140625 8.90625 \nQ 21.296875 6.109375 26.703125 6.109375 \nQ 34.1875 6.109375 38.703125 11.40625 \nQ 43.21875 16.703125 43.21875 25.484375 \nL 43.21875 27.484375 \nz\nM 52.203125 31.203125 \nL 52.203125 0 \nL 43.21875 0 \nL 43.21875 8.296875 \nQ 40.140625 3.328125 35.546875 0.953125 \nQ 30.953125 -1.421875 24.3125 -1.421875 \nQ 15.921875 -1.421875 10.953125 3.296875 \nQ 6 8.015625 6 15.921875 \nQ 6 25.140625 12.171875 29.828125 \nQ 18.359375 34.515625 30.609375 34.515625 \nL 43.21875 34.515625 \nL 43.21875 35.40625 \nQ 43.21875 41.609375 39.140625 45 \nQ 35.0625 48.390625 27.6875 48.390625 \nQ 23 48.390625 18.546875 47.265625 \nQ 14.109375 46.140625 10.015625 43.890625 \nL 10.015625 52.203125 \nQ 14.9375 54.109375 19.578125 55.046875 \nQ 24.21875 56 28.609375 56 \nQ 40.484375 56 46.34375 49.84375 \nQ 52.203125 43.703125 52.203125 31.203125 \nz\n\" id=\"DejaVuSans-97\"/>\n      <path d=\"M 9.421875 54.6875 \nL 18.40625 54.6875 \nL 18.40625 0 \nL 9.421875 0 \nz\nM 9.421875 75.984375 \nL 18.40625 75.984375 \nL 18.40625 64.59375 \nL 9.421875 64.59375 \nz\n\" id=\"DejaVuSans-105\"/>\n      <path d=\"M 54.890625 33.015625 \nL 54.890625 0 \nL 45.90625 0 \nL 45.90625 32.71875 \nQ 45.90625 40.484375 42.875 44.328125 \nQ 39.84375 48.1875 33.796875 48.1875 \nQ 26.515625 48.1875 22.3125 43.546875 \nQ 18.109375 38.921875 18.109375 30.90625 \nL 18.109375 0 \nL 9.078125 0 \nL 9.078125 54.6875 \nL 18.109375 54.6875 \nL 18.109375 46.1875 \nQ 21.34375 51.125 25.703125 53.5625 \nQ 30.078125 56 35.796875 56 \nQ 45.21875 56 50.046875 50.171875 \nQ 54.890625 44.34375 54.890625 33.015625 \nz\n\" id=\"DejaVuSans-110\"/>\n      <path d=\"M 45.40625 27.984375 \nQ 45.40625 37.75 41.375 43.109375 \nQ 37.359375 48.484375 30.078125 48.484375 \nQ 22.859375 48.484375 18.828125 43.109375 \nQ 14.796875 37.75 14.796875 27.984375 \nQ 14.796875 18.265625 18.828125 12.890625 \nQ 22.859375 7.515625 30.078125 7.515625 \nQ 37.359375 7.515625 41.375 12.890625 \nQ 45.40625 18.265625 45.40625 27.984375 \nz\nM 54.390625 6.78125 \nQ 54.390625 -7.171875 48.1875 -13.984375 \nQ 42 -20.796875 29.203125 -20.796875 \nQ 24.46875 -20.796875 20.265625 -20.09375 \nQ 16.0625 -19.390625 12.109375 -17.921875 \nL 12.109375 -9.1875 \nQ 16.0625 -11.328125 19.921875 -12.34375 \nQ 23.78125 -13.375 27.78125 -13.375 \nQ 36.625 -13.375 41.015625 -8.765625 \nQ 45.40625 -4.15625 45.40625 5.171875 \nL 45.40625 9.625 \nQ 42.625 4.78125 38.28125 2.390625 \nQ 33.9375 0 27.875 0 \nQ 17.828125 0 11.671875 7.65625 \nQ 5.515625 15.328125 5.515625 27.984375 \nQ 5.515625 40.671875 11.671875 48.328125 \nQ 17.828125 56 27.875 56 \nQ 33.9375 56 38.28125 53.609375 \nQ 42.625 51.21875 45.40625 46.390625 \nL 45.40625 54.6875 \nL 54.390625 54.6875 \nz\n\" id=\"DejaVuSans-103\"/>\n      <path id=\"DejaVuSans-32\"/>\n      <path d=\"M 45.40625 46.390625 \nL 45.40625 75.984375 \nL 54.390625 75.984375 \nL 54.390625 0 \nL 45.40625 0 \nL 45.40625 8.203125 \nQ 42.578125 3.328125 38.25 0.953125 \nQ 33.9375 -1.421875 27.875 -1.421875 \nQ 17.96875 -1.421875 11.734375 6.484375 \nQ 5.515625 14.40625 5.515625 27.296875 \nQ 5.515625 40.1875 11.734375 48.09375 \nQ 17.96875 56 27.875 56 \nQ 33.9375 56 38.25 53.625 \nQ 42.578125 51.265625 45.40625 46.390625 \nz\nM 14.796875 27.296875 \nQ 14.796875 17.390625 18.875 11.75 \nQ 22.953125 6.109375 30.078125 6.109375 \nQ 37.203125 6.109375 41.296875 11.75 \nQ 45.40625 17.390625 45.40625 27.296875 \nQ 45.40625 37.203125 41.296875 42.84375 \nQ 37.203125 48.484375 30.078125 48.484375 \nQ 22.953125 48.484375 18.875 42.84375 \nQ 14.796875 37.203125 14.796875 27.296875 \nz\n\" id=\"DejaVuSans-100\"/>\n      <path d=\"M 2.984375 54.6875 \nL 12.5 54.6875 \nL 29.59375 8.796875 \nL 46.6875 54.6875 \nL 56.203125 54.6875 \nL 35.6875 0 \nL 23.484375 0 \nz\n\" id=\"DejaVuSans-118\"/>\n     </defs>\n     <use xlink:href=\"#DejaVuSans-116\"/>\n     <use x=\"39.208984\" xlink:href=\"#DejaVuSans-114\"/>\n     <use x=\"80.322266\" xlink:href=\"#DejaVuSans-97\"/>\n     <use x=\"141.601562\" xlink:href=\"#DejaVuSans-105\"/>\n     <use x=\"169.384766\" xlink:href=\"#DejaVuSans-110\"/>\n     <use x=\"232.763672\" xlink:href=\"#DejaVuSans-105\"/>\n     <use x=\"260.546875\" xlink:href=\"#DejaVuSans-110\"/>\n     <use x=\"323.925781\" xlink:href=\"#DejaVuSans-103\"/>\n     <use x=\"387.402344\" xlink:href=\"#DejaVuSans-32\"/>\n     <use x=\"419.189453\" xlink:href=\"#DejaVuSans-97\"/>\n     <use x=\"480.46875\" xlink:href=\"#DejaVuSans-110\"/>\n     <use x=\"543.847656\" xlink:href=\"#DejaVuSans-100\"/>\n     <use x=\"607.324219\" xlink:href=\"#DejaVuSans-32\"/>\n     <use x=\"639.111328\" xlink:href=\"#DejaVuSans-118\"/>\n     <use x=\"698.291016\" xlink:href=\"#DejaVuSans-97\"/>\n     <use x=\"759.570312\" xlink:href=\"#DejaVuSans-108\"/>\n     <use x=\"787.353516\" xlink:href=\"#DejaVuSans-105\"/>\n     <use x=\"815.136719\" xlink:href=\"#DejaVuSans-100\"/>\n     <use x=\"878.613281\" xlink:href=\"#DejaVuSans-97\"/>\n     <use x=\"939.892578\" xlink:href=\"#DejaVuSans-116\"/>\n     <use x=\"979.101562\" xlink:href=\"#DejaVuSans-105\"/>\n     <use x=\"1006.884766\" xlink:href=\"#DejaVuSans-111\"/>\n     <use x=\"1068.066406\" xlink:href=\"#DejaVuSans-110\"/>\n     <use x=\"1131.445312\" xlink:href=\"#DejaVuSans-32\"/>\n     <use x=\"1163.232422\" xlink:href=\"#DejaVuSans-108\"/>\n     <use x=\"1191.015625\" xlink:href=\"#DejaVuSans-111\"/>\n     <use x=\"1252.197266\" xlink:href=\"#DejaVuSans-115\"/>\n     <use x=\"1304.296875\" xlink:href=\"#DejaVuSans-115\"/>\n    </g>\n   </g>\n   <g id=\"legend_1\">\n    <g id=\"patch_7\">\n     <path d=\"M 267.70625 59.674375 \nL 371.58125 59.674375 \nQ 373.58125 59.674375 373.58125 57.674375 \nL 373.58125 29.318125 \nQ 373.58125 27.318125 371.58125 27.318125 \nL 267.70625 27.318125 \nQ 265.70625 27.318125 265.70625 29.318125 \nL 265.70625 57.674375 \nQ 265.70625 59.674375 267.70625 59.674375 \nz\n\" style=\"fill:#ffffff;opacity:0.8;stroke:#cccccc;stroke-linejoin:miter;\"/>\n    </g>\n    <g id=\"line2d_14\"/>\n    <g id=\"line2d_15\">\n     <g>\n      <use style=\"fill:#0000ff;stroke:#0000ff;\" x=\"279.70625\" xlink:href=\"#m4e6b2e5b04\" y=\"35.416562\"/>\n     </g>\n    </g>\n    <g id=\"text_15\">\n     <!-- Training loss -->\n     <g transform=\"translate(297.70625 38.916562)scale(0.1 -0.1)\">\n      <defs>\n       <path d=\"M -0.296875 72.90625 \nL 61.375 72.90625 \nL 61.375 64.59375 \nL 35.5 64.59375 \nL 35.5 0 \nL 25.59375 0 \nL 25.59375 64.59375 \nL -0.296875 64.59375 \nz\n\" id=\"DejaVuSans-84\"/>\n      </defs>\n      <use xlink:href=\"#DejaVuSans-84\"/>\n      <use x=\"46.333984\" xlink:href=\"#DejaVuSans-114\"/>\n      <use x=\"87.447266\" xlink:href=\"#DejaVuSans-97\"/>\n      <use x=\"148.726562\" xlink:href=\"#DejaVuSans-105\"/>\n      <use x=\"176.509766\" xlink:href=\"#DejaVuSans-110\"/>\n      <use x=\"239.888672\" xlink:href=\"#DejaVuSans-105\"/>\n      <use x=\"267.671875\" xlink:href=\"#DejaVuSans-110\"/>\n      <use x=\"331.050781\" xlink:href=\"#DejaVuSans-103\"/>\n      <use x=\"394.527344\" xlink:href=\"#DejaVuSans-32\"/>\n      <use x=\"426.314453\" xlink:href=\"#DejaVuSans-108\"/>\n      <use x=\"454.097656\" xlink:href=\"#DejaVuSans-111\"/>\n      <use x=\"515.279297\" xlink:href=\"#DejaVuSans-115\"/>\n      <use x=\"567.378906\" xlink:href=\"#DejaVuSans-115\"/>\n     </g>\n    </g>\n    <g id=\"line2d_16\">\n     <path d=\"M 269.70625 50.094687 \nL 289.70625 50.094687 \n\" style=\"fill:none;stroke:#0000ff;stroke-linecap:square;stroke-width:1.5;\"/>\n    </g>\n    <g id=\"line2d_17\"/>\n    <g id=\"text_16\">\n     <!-- Validation loss -->\n     <g transform=\"translate(297.70625 53.594687)scale(0.1 -0.1)\">\n      <defs>\n       <path d=\"M 28.609375 0 \nL 0.78125 72.90625 \nL 11.078125 72.90625 \nL 34.1875 11.53125 \nL 57.328125 72.90625 \nL 67.578125 72.90625 \nL 39.796875 0 \nz\n\" id=\"DejaVuSans-86\"/>\n      </defs>\n      <use xlink:href=\"#DejaVuSans-86\"/>\n      <use x=\"60.658203\" xlink:href=\"#DejaVuSans-97\"/>\n      <use x=\"121.9375\" xlink:href=\"#DejaVuSans-108\"/>\n      <use x=\"149.720703\" xlink:href=\"#DejaVuSans-105\"/>\n      <use x=\"177.503906\" xlink:href=\"#DejaVuSans-100\"/>\n      <use x=\"240.980469\" xlink:href=\"#DejaVuSans-97\"/>\n      <use x=\"302.259766\" xlink:href=\"#DejaVuSans-116\"/>\n      <use x=\"341.46875\" xlink:href=\"#DejaVuSans-105\"/>\n      <use x=\"369.251953\" xlink:href=\"#DejaVuSans-111\"/>\n      <use x=\"430.433594\" xlink:href=\"#DejaVuSans-110\"/>\n      <use x=\"493.8125\" xlink:href=\"#DejaVuSans-32\"/>\n      <use x=\"525.599609\" xlink:href=\"#DejaVuSans-108\"/>\n      <use x=\"553.382812\" xlink:href=\"#DejaVuSans-111\"/>\n      <use x=\"614.564453\" xlink:href=\"#DejaVuSans-115\"/>\n      <use x=\"666.664062\" xlink:href=\"#DejaVuSans-115\"/>\n     </g>\n    </g>\n   </g>\n  </g>\n </g>\n <defs>\n  <clipPath id=\"pf19b4b48cc\">\n   <rect height=\"217.44\" width=\"334.8\" x=\"43.78125\" y=\"22.318125\"/>\n  </clipPath>\n </defs>\n</svg>\n",
      "image/png": "[encoded data removed]"
     },
     "metadata": {
      "needs_background": "light"
     }
    }
   ],
   "source": [
    "# 绘制训练损失和验证损失 (当然也可人眼看)\n",
    "history_dict = history.history\n",
    "loss_values = history_dict['loss']\n",
    "epochs = range(1, len(loss_values)+1)\n",
    "val_loss_values = history_dict['val_loss']\n",
    "# 蓝色圆点\n",
    "# plt.clf()\n",
    "plt.plot( epochs, loss_values, 'bo', label='Training loss' )\n",
    "# 蓝色实线\n",
    "plt.plot( epochs, val_loss_values, 'b', label='Validation loss' )\n",
    "# 在第11轮的时候validation上的loss达到最小值了\n",
    "plt.title('training and validation loss')\n",
    "plt.xlabel('epochs')\n",
    "plt.ylabel('loss')\n",
    "plt.legend()\n",
    "plt.show()\n",
    "# 这张图看起来与图3-7更为接近"
   ]
  },
  {
   "cell_type": "code",
   "execution_count": 827,
   "metadata": {},
   "outputs": [
    {
     "output_type": "display_data",
     "data": {
      "text/plain": "<Figure size 432x288 with 1 Axes>",
      "image/svg+xml": "<?xml version=\"1.0\" encoding=\"utf-8\" standalone=\"no\"?>\n<!DOCTYPE svg PUBLIC \"-//W3C//DTD SVG 1.1//EN\"\n  \"http://www.w3.org/Graphics/SVG/1.1/DTD/svg11.dtd\">\n<!-- Created with matplotlib (https://matplotlib.org/) -->\n<svg height=\"277.314375pt\" version=\"1.1\" viewBox=\"0 0 398.50625 277.314375\" width=\"398.50625pt\" xmlns=\"http://www.w3.org/2000/svg\" xmlns:xlink=\"http://www.w3.org/1999/xlink\">\n <metadata>\n  <rdf:RDF xmlns:cc=\"http://creativecommons.org/ns#\" xmlns:dc=\"http://purl.org/dc/elements/1.1/\" xmlns:rdf=\"http://www.w3.org/1999/02/22-rdf-syntax-ns#\">\n   <cc:Work>\n    <dc:type rdf:resource=\"http://purl.org/dc/dcmitype/StillImage\"/>\n    <dc:date>2020-08-27T14:48:47.276065</dc:date>\n    <dc:format>image/svg+xml</dc:format>\n    <dc:creator>\n     <cc:Agent>\n      <dc:title>Matplotlib v3.3.0, https://matplotlib.org/</dc:title>\n     </cc:Agent>\n    </dc:creator>\n   </cc:Work>\n  </rdf:RDF>\n </metadata>\n <defs>\n  <style type=\"text/css\">*{stroke-linecap:butt;stroke-linejoin:round;}</style>\n </defs>\n <g id=\"figure_1\">\n  <g id=\"patch_1\">\n   <path d=\"M 0 277.314375 \nL 398.50625 277.314375 \nL 398.50625 0 \nL 0 0 \nz\n\" style=\"fill:none;\"/>\n  </g>\n  <g id=\"axes_1\">\n   <g id=\"patch_2\">\n    <path d=\"M 56.50625 239.758125 \nL 391.30625 239.758125 \nL 391.30625 22.318125 \nL 56.50625 22.318125 \nz\n\" style=\"fill:#ffffff;\"/>\n   </g>\n   <g id=\"matplotlib.axis_1\">\n    <g id=\"xtick_1\">\n     <g id=\"line2d_1\">\n      <defs>\n       <path d=\"M 0 0 \nL 0 3.5 \n\" id=\"macb3092924\" style=\"stroke:#000000;stroke-width:0.8;\"/>\n      </defs>\n      <g>\n       <use style=\"stroke:#000000;stroke-width:0.8;\" x=\"105.542614\" xlink:href=\"#macb3092924\" y=\"239.758125\"/>\n      </g>\n     </g>\n     <g id=\"text_1\">\n      <!-- 2 -->\n      <g transform=\"translate(102.361364 254.356562)scale(0.1 -0.1)\">\n       <defs>\n        <path d=\"M 19.1875 8.296875 \nL 53.609375 8.296875 \nL 53.609375 0 \nL 7.328125 0 \nL 7.328125 8.296875 \nQ 12.9375 14.109375 22.625 23.890625 \nQ 32.328125 33.6875 34.8125 36.53125 \nQ 39.546875 41.84375 41.421875 45.53125 \nQ 43.3125 49.21875 43.3125 52.78125 \nQ 43.3125 58.59375 39.234375 62.25 \nQ 35.15625 65.921875 28.609375 65.921875 \nQ 23.96875 65.921875 18.8125 64.3125 \nQ 13.671875 62.703125 7.8125 59.421875 \nL 7.8125 69.390625 \nQ 13.765625 71.78125 18.9375 73 \nQ 24.125 74.21875 28.421875 74.21875 \nQ 39.75 74.21875 46.484375 68.546875 \nQ 53.21875 62.890625 53.21875 53.421875 \nQ 53.21875 48.921875 51.53125 44.890625 \nQ 49.859375 40.875 45.40625 35.40625 \nQ 44.1875 33.984375 37.640625 27.21875 \nQ 31.109375 20.453125 19.1875 8.296875 \nz\n\" id=\"DejaVuSans-50\"/>\n       </defs>\n       <use xlink:href=\"#DejaVuSans-50\"/>\n      </g>\n     </g>\n    </g>\n    <g id=\"xtick_2\">\n     <g id=\"line2d_2\">\n      <g>\n       <use style=\"stroke:#000000;stroke-width:0.8;\" x=\"173.178977\" xlink:href=\"#macb3092924\" y=\"239.758125\"/>\n      </g>\n     </g>\n     <g id=\"text_2\">\n      <!-- 4 -->\n      <g transform=\"translate(169.997727 254.356562)scale(0.1 -0.1)\">\n       <defs>\n        <path d=\"M 37.796875 64.3125 \nL 12.890625 25.390625 \nL 37.796875 25.390625 \nz\nM 35.203125 72.90625 \nL 47.609375 72.90625 \nL 47.609375 25.390625 \nL 58.015625 25.390625 \nL 58.015625 17.1875 \nL 47.609375 17.1875 \nL 47.609375 0 \nL 37.796875 0 \nL 37.796875 17.1875 \nL 4.890625 17.1875 \nL 4.890625 26.703125 \nz\n\" id=\"DejaVuSans-52\"/>\n       </defs>\n       <use xlink:href=\"#DejaVuSans-52\"/>\n      </g>\n     </g>\n    </g>\n    <g id=\"xtick_3\">\n     <g id=\"line2d_3\">\n      <g>\n       <use style=\"stroke:#000000;stroke-width:0.8;\" x=\"240.815341\" xlink:href=\"#macb3092924\" y=\"239.758125\"/>\n      </g>\n     </g>\n     <g id=\"text_3\">\n      <!-- 6 -->\n      <g transform=\"translate(237.634091 254.356562)scale(0.1 -0.1)\">\n       <defs>\n        <path d=\"M 33.015625 40.375 \nQ 26.375 40.375 22.484375 35.828125 \nQ 18.609375 31.296875 18.609375 23.390625 \nQ 18.609375 15.53125 22.484375 10.953125 \nQ 26.375 6.390625 33.015625 6.390625 \nQ 39.65625 6.390625 43.53125 10.953125 \nQ 47.40625 15.53125 47.40625 23.390625 \nQ 47.40625 31.296875 43.53125 35.828125 \nQ 39.65625 40.375 33.015625 40.375 \nz\nM 52.59375 71.296875 \nL 52.59375 62.3125 \nQ 48.875 64.0625 45.09375 64.984375 \nQ 41.3125 65.921875 37.59375 65.921875 \nQ 27.828125 65.921875 22.671875 59.328125 \nQ 17.53125 52.734375 16.796875 39.40625 \nQ 19.671875 43.65625 24.015625 45.921875 \nQ 28.375 48.1875 33.59375 48.1875 \nQ 44.578125 48.1875 50.953125 41.515625 \nQ 57.328125 34.859375 57.328125 23.390625 \nQ 57.328125 12.15625 50.6875 5.359375 \nQ 44.046875 -1.421875 33.015625 -1.421875 \nQ 20.359375 -1.421875 13.671875 8.265625 \nQ 6.984375 17.96875 6.984375 36.375 \nQ 6.984375 53.65625 15.1875 63.9375 \nQ 23.390625 74.21875 37.203125 74.21875 \nQ 40.921875 74.21875 44.703125 73.484375 \nQ 48.484375 72.75 52.59375 71.296875 \nz\n\" id=\"DejaVuSans-54\"/>\n       </defs>\n       <use xlink:href=\"#DejaVuSans-54\"/>\n      </g>\n     </g>\n    </g>\n    <g id=\"xtick_4\">\n     <g id=\"line2d_4\">\n      <g>\n       <use style=\"stroke:#000000;stroke-width:0.8;\" x=\"308.451705\" xlink:href=\"#macb3092924\" y=\"239.758125\"/>\n      </g>\n     </g>\n     <g id=\"text_4\">\n      <!-- 8 -->\n      <g transform=\"translate(305.270455 254.356562)scale(0.1 -0.1)\">\n       <defs>\n        <path d=\"M 31.78125 34.625 \nQ 24.75 34.625 20.71875 30.859375 \nQ 16.703125 27.09375 16.703125 20.515625 \nQ 16.703125 13.921875 20.71875 10.15625 \nQ 24.75 6.390625 31.78125 6.390625 \nQ 38.8125 6.390625 42.859375 10.171875 \nQ 46.921875 13.96875 46.921875 20.515625 \nQ 46.921875 27.09375 42.890625 30.859375 \nQ 38.875 34.625 31.78125 34.625 \nz\nM 21.921875 38.8125 \nQ 15.578125 40.375 12.03125 44.71875 \nQ 8.5 49.078125 8.5 55.328125 \nQ 8.5 64.0625 14.71875 69.140625 \nQ 20.953125 74.21875 31.78125 74.21875 \nQ 42.671875 74.21875 48.875 69.140625 \nQ 55.078125 64.0625 55.078125 55.328125 \nQ 55.078125 49.078125 51.53125 44.71875 \nQ 48 40.375 41.703125 38.8125 \nQ 48.828125 37.15625 52.796875 32.3125 \nQ 56.78125 27.484375 56.78125 20.515625 \nQ 56.78125 9.90625 50.3125 4.234375 \nQ 43.84375 -1.421875 31.78125 -1.421875 \nQ 19.734375 -1.421875 13.25 4.234375 \nQ 6.78125 9.90625 6.78125 20.515625 \nQ 6.78125 27.484375 10.78125 32.3125 \nQ 14.796875 37.15625 21.921875 38.8125 \nz\nM 18.3125 54.390625 \nQ 18.3125 48.734375 21.84375 45.5625 \nQ 25.390625 42.390625 31.78125 42.390625 \nQ 38.140625 42.390625 41.71875 45.5625 \nQ 45.3125 48.734375 45.3125 54.390625 \nQ 45.3125 60.0625 41.71875 63.234375 \nQ 38.140625 66.40625 31.78125 66.40625 \nQ 25.390625 66.40625 21.84375 63.234375 \nQ 18.3125 60.0625 18.3125 54.390625 \nz\n\" id=\"DejaVuSans-56\"/>\n       </defs>\n       <use xlink:href=\"#DejaVuSans-56\"/>\n      </g>\n     </g>\n    </g>\n    <g id=\"xtick_5\">\n     <g id=\"line2d_5\">\n      <g>\n       <use style=\"stroke:#000000;stroke-width:0.8;\" x=\"376.088068\" xlink:href=\"#macb3092924\" y=\"239.758125\"/>\n      </g>\n     </g>\n     <g id=\"text_5\">\n      <!-- 10 -->\n      <g transform=\"translate(369.725568 254.356562)scale(0.1 -0.1)\">\n       <defs>\n        <path d=\"M 12.40625 8.296875 \nL 28.515625 8.296875 \nL 28.515625 63.921875 \nL 10.984375 60.40625 \nL 10.984375 69.390625 \nL 28.421875 72.90625 \nL 38.28125 72.90625 \nL 38.28125 8.296875 \nL 54.390625 8.296875 \nL 54.390625 0 \nL 12.40625 0 \nz\n\" id=\"DejaVuSans-49\"/>\n        <path d=\"M 31.78125 66.40625 \nQ 24.171875 66.40625 20.328125 58.90625 \nQ 16.5 51.421875 16.5 36.375 \nQ 16.5 21.390625 20.328125 13.890625 \nQ 24.171875 6.390625 31.78125 6.390625 \nQ 39.453125 6.390625 43.28125 13.890625 \nQ 47.125 21.390625 47.125 36.375 \nQ 47.125 51.421875 43.28125 58.90625 \nQ 39.453125 66.40625 31.78125 66.40625 \nz\nM 31.78125 74.21875 \nQ 44.046875 74.21875 50.515625 64.515625 \nQ 56.984375 54.828125 56.984375 36.375 \nQ 56.984375 17.96875 50.515625 8.265625 \nQ 44.046875 -1.421875 31.78125 -1.421875 \nQ 19.53125 -1.421875 13.0625 8.265625 \nQ 6.59375 17.96875 6.59375 36.375 \nQ 6.59375 54.828125 13.0625 64.515625 \nQ 19.53125 74.21875 31.78125 74.21875 \nz\n\" id=\"DejaVuSans-48\"/>\n       </defs>\n       <use xlink:href=\"#DejaVuSans-49\"/>\n       <use x=\"63.623047\" xlink:href=\"#DejaVuSans-48\"/>\n      </g>\n     </g>\n    </g>\n    <g id=\"text_6\">\n     <!-- epochs -->\n     <g transform=\"translate(206.073438 268.034687)scale(0.1 -0.1)\">\n      <defs>\n       <path d=\"M 56.203125 29.59375 \nL 56.203125 25.203125 \nL 14.890625 25.203125 \nQ 15.484375 15.921875 20.484375 11.0625 \nQ 25.484375 6.203125 34.421875 6.203125 \nQ 39.59375 6.203125 44.453125 7.46875 \nQ 49.3125 8.734375 54.109375 11.28125 \nL 54.109375 2.78125 \nQ 49.265625 0.734375 44.1875 -0.34375 \nQ 39.109375 -1.421875 33.890625 -1.421875 \nQ 20.796875 -1.421875 13.15625 6.1875 \nQ 5.515625 13.8125 5.515625 26.8125 \nQ 5.515625 40.234375 12.765625 48.109375 \nQ 20.015625 56 32.328125 56 \nQ 43.359375 56 49.78125 48.890625 \nQ 56.203125 41.796875 56.203125 29.59375 \nz\nM 47.21875 32.234375 \nQ 47.125 39.59375 43.09375 43.984375 \nQ 39.0625 48.390625 32.421875 48.390625 \nQ 24.90625 48.390625 20.390625 44.140625 \nQ 15.875 39.890625 15.1875 32.171875 \nz\n\" id=\"DejaVuSans-101\"/>\n       <path d=\"M 18.109375 8.203125 \nL 18.109375 -20.796875 \nL 9.078125 -20.796875 \nL 9.078125 54.6875 \nL 18.109375 54.6875 \nL 18.109375 46.390625 \nQ 20.953125 51.265625 25.265625 53.625 \nQ 29.59375 56 35.59375 56 \nQ 45.5625 56 51.78125 48.09375 \nQ 58.015625 40.1875 58.015625 27.296875 \nQ 58.015625 14.40625 51.78125 6.484375 \nQ 45.5625 -1.421875 35.59375 -1.421875 \nQ 29.59375 -1.421875 25.265625 0.953125 \nQ 20.953125 3.328125 18.109375 8.203125 \nz\nM 48.6875 27.296875 \nQ 48.6875 37.203125 44.609375 42.84375 \nQ 40.53125 48.484375 33.40625 48.484375 \nQ 26.265625 48.484375 22.1875 42.84375 \nQ 18.109375 37.203125 18.109375 27.296875 \nQ 18.109375 17.390625 22.1875 11.75 \nQ 26.265625 6.109375 33.40625 6.109375 \nQ 40.53125 6.109375 44.609375 11.75 \nQ 48.6875 17.390625 48.6875 27.296875 \nz\n\" id=\"DejaVuSans-112\"/>\n       <path d=\"M 30.609375 48.390625 \nQ 23.390625 48.390625 19.1875 42.75 \nQ 14.984375 37.109375 14.984375 27.296875 \nQ 14.984375 17.484375 19.15625 11.84375 \nQ 23.34375 6.203125 30.609375 6.203125 \nQ 37.796875 6.203125 41.984375 11.859375 \nQ 46.1875 17.53125 46.1875 27.296875 \nQ 46.1875 37.015625 41.984375 42.703125 \nQ 37.796875 48.390625 30.609375 48.390625 \nz\nM 30.609375 56 \nQ 42.328125 56 49.015625 48.375 \nQ 55.71875 40.765625 55.71875 27.296875 \nQ 55.71875 13.875 49.015625 6.21875 \nQ 42.328125 -1.421875 30.609375 -1.421875 \nQ 18.84375 -1.421875 12.171875 6.21875 \nQ 5.515625 13.875 5.515625 27.296875 \nQ 5.515625 40.765625 12.171875 48.375 \nQ 18.84375 56 30.609375 56 \nz\n\" id=\"DejaVuSans-111\"/>\n       <path d=\"M 48.78125 52.59375 \nL 48.78125 44.1875 \nQ 44.96875 46.296875 41.140625 47.34375 \nQ 37.3125 48.390625 33.40625 48.390625 \nQ 24.65625 48.390625 19.8125 42.84375 \nQ 14.984375 37.3125 14.984375 27.296875 \nQ 14.984375 17.28125 19.8125 11.734375 \nQ 24.65625 6.203125 33.40625 6.203125 \nQ 37.3125 6.203125 41.140625 7.25 \nQ 44.96875 8.296875 48.78125 10.40625 \nL 48.78125 2.09375 \nQ 45.015625 0.34375 40.984375 -0.53125 \nQ 36.96875 -1.421875 32.421875 -1.421875 \nQ 20.0625 -1.421875 12.78125 6.34375 \nQ 5.515625 14.109375 5.515625 27.296875 \nQ 5.515625 40.671875 12.859375 48.328125 \nQ 20.21875 56 33.015625 56 \nQ 37.15625 56 41.109375 55.140625 \nQ 45.0625 54.296875 48.78125 52.59375 \nz\n\" id=\"DejaVuSans-99\"/>\n       <path d=\"M 54.890625 33.015625 \nL 54.890625 0 \nL 45.90625 0 \nL 45.90625 32.71875 \nQ 45.90625 40.484375 42.875 44.328125 \nQ 39.84375 48.1875 33.796875 48.1875 \nQ 26.515625 48.1875 22.3125 43.546875 \nQ 18.109375 38.921875 18.109375 30.90625 \nL 18.109375 0 \nL 9.078125 0 \nL 9.078125 75.984375 \nL 18.109375 75.984375 \nL 18.109375 46.1875 \nQ 21.34375 51.125 25.703125 53.5625 \nQ 30.078125 56 35.796875 56 \nQ 45.21875 56 50.046875 50.171875 \nQ 54.890625 44.34375 54.890625 33.015625 \nz\n\" id=\"DejaVuSans-104\"/>\n       <path d=\"M 44.28125 53.078125 \nL 44.28125 44.578125 \nQ 40.484375 46.53125 36.375 47.5 \nQ 32.28125 48.484375 27.875 48.484375 \nQ 21.1875 48.484375 17.84375 46.4375 \nQ 14.5 44.390625 14.5 40.28125 \nQ 14.5 37.15625 16.890625 35.375 \nQ 19.28125 33.59375 26.515625 31.984375 \nL 29.59375 31.296875 \nQ 39.15625 29.25 43.1875 25.515625 \nQ 47.21875 21.78125 47.21875 15.09375 \nQ 47.21875 7.46875 41.1875 3.015625 \nQ 35.15625 -1.421875 24.609375 -1.421875 \nQ 20.21875 -1.421875 15.453125 -0.5625 \nQ 10.6875 0.296875 5.421875 2 \nL 5.421875 11.28125 \nQ 10.40625 8.6875 15.234375 7.390625 \nQ 20.0625 6.109375 24.8125 6.109375 \nQ 31.15625 6.109375 34.5625 8.28125 \nQ 37.984375 10.453125 37.984375 14.40625 \nQ 37.984375 18.0625 35.515625 20.015625 \nQ 33.0625 21.96875 24.703125 23.78125 \nL 21.578125 24.515625 \nQ 13.234375 26.265625 9.515625 29.90625 \nQ 5.8125 33.546875 5.8125 39.890625 \nQ 5.8125 47.609375 11.28125 51.796875 \nQ 16.75 56 26.8125 56 \nQ 31.78125 56 36.171875 55.265625 \nQ 40.578125 54.546875 44.28125 53.078125 \nz\n\" id=\"DejaVuSans-115\"/>\n      </defs>\n      <use xlink:href=\"#DejaVuSans-101\"/>\n      <use x=\"61.523438\" xlink:href=\"#DejaVuSans-112\"/>\n      <use x=\"125\" xlink:href=\"#DejaVuSans-111\"/>\n      <use x=\"186.181641\" xlink:href=\"#DejaVuSans-99\"/>\n      <use x=\"241.162109\" xlink:href=\"#DejaVuSans-104\"/>\n      <use x=\"304.541016\" xlink:href=\"#DejaVuSans-115\"/>\n     </g>\n    </g>\n   </g>\n   <g id=\"matplotlib.axis_2\">\n    <g id=\"ytick_1\">\n     <g id=\"line2d_6\">\n      <defs>\n       <path d=\"M 0 0 \nL -3.5 0 \n\" id=\"m05daf073fb\" style=\"stroke:#000000;stroke-width:0.8;\"/>\n      </defs>\n      <g>\n       <use style=\"stroke:#000000;stroke-width:0.8;\" x=\"56.50625\" xlink:href=\"#m05daf073fb\" y=\"226.946022\"/>\n      </g>\n     </g>\n     <g id=\"text_7\">\n      <!-- 0.800 -->\n      <g transform=\"translate(20.878125 230.74524)scale(0.1 -0.1)\">\n       <defs>\n        <path d=\"M 10.6875 12.40625 \nL 21 12.40625 \nL 21 0 \nL 10.6875 0 \nz\n\" id=\"DejaVuSans-46\"/>\n       </defs>\n       <use xlink:href=\"#DejaVuSans-48\"/>\n       <use x=\"63.623047\" xlink:href=\"#DejaVuSans-46\"/>\n       <use x=\"95.410156\" xlink:href=\"#DejaVuSans-56\"/>\n       <use x=\"159.033203\" xlink:href=\"#DejaVuSans-48\"/>\n       <use x=\"222.65625\" xlink:href=\"#DejaVuSans-48\"/>\n      </g>\n     </g>\n    </g>\n    <g id=\"ytick_2\">\n     <g id=\"line2d_7\">\n      <g>\n       <use style=\"stroke:#000000;stroke-width:0.8;\" x=\"56.50625\" xlink:href=\"#m05daf073fb\" y=\"202.456568\"/>\n      </g>\n     </g>\n     <g id=\"text_8\">\n      <!-- 0.825 -->\n      <g transform=\"translate(20.878125 206.255787)scale(0.1 -0.1)\">\n       <defs>\n        <path d=\"M 10.796875 72.90625 \nL 49.515625 72.90625 \nL 49.515625 64.59375 \nL 19.828125 64.59375 \nL 19.828125 46.734375 \nQ 21.96875 47.46875 24.109375 47.828125 \nQ 26.265625 48.1875 28.421875 48.1875 \nQ 40.625 48.1875 47.75 41.5 \nQ 54.890625 34.8125 54.890625 23.390625 \nQ 54.890625 11.625 47.5625 5.09375 \nQ 40.234375 -1.421875 26.90625 -1.421875 \nQ 22.3125 -1.421875 17.546875 -0.640625 \nQ 12.796875 0.140625 7.71875 1.703125 \nL 7.71875 11.625 \nQ 12.109375 9.234375 16.796875 8.0625 \nQ 21.484375 6.890625 26.703125 6.890625 \nQ 35.15625 6.890625 40.078125 11.328125 \nQ 45.015625 15.765625 45.015625 23.390625 \nQ 45.015625 31 40.078125 35.4375 \nQ 35.15625 39.890625 26.703125 39.890625 \nQ 22.75 39.890625 18.8125 39.015625 \nQ 14.890625 38.140625 10.796875 36.28125 \nz\n\" id=\"DejaVuSans-53\"/>\n       </defs>\n       <use xlink:href=\"#DejaVuSans-48\"/>\n       <use x=\"63.623047\" xlink:href=\"#DejaVuSans-46\"/>\n       <use x=\"95.410156\" xlink:href=\"#DejaVuSans-56\"/>\n       <use x=\"159.033203\" xlink:href=\"#DejaVuSans-50\"/>\n       <use x=\"222.65625\" xlink:href=\"#DejaVuSans-53\"/>\n      </g>\n     </g>\n    </g>\n    <g id=\"ytick_3\">\n     <g id=\"line2d_8\">\n      <g>\n       <use style=\"stroke:#000000;stroke-width:0.8;\" x=\"56.50625\" xlink:href=\"#m05daf073fb\" y=\"177.967114\"/>\n      </g>\n     </g>\n     <g id=\"text_9\">\n      <!-- 0.850 -->\n      <g transform=\"translate(20.878125 181.766333)scale(0.1 -0.1)\">\n       <use xlink:href=\"#DejaVuSans-48\"/>\n       <use x=\"63.623047\" xlink:href=\"#DejaVuSans-46\"/>\n       <use x=\"95.410156\" xlink:href=\"#DejaVuSans-56\"/>\n       <use x=\"159.033203\" xlink:href=\"#DejaVuSans-53\"/>\n       <use x=\"222.65625\" xlink:href=\"#DejaVuSans-48\"/>\n      </g>\n     </g>\n    </g>\n    <g id=\"ytick_4\">\n     <g id=\"line2d_9\">\n      <g>\n       <use style=\"stroke:#000000;stroke-width:0.8;\" x=\"56.50625\" xlink:href=\"#m05daf073fb\" y=\"153.477661\"/>\n      </g>\n     </g>\n     <g id=\"text_10\">\n      <!-- 0.875 -->\n      <g transform=\"translate(20.878125 157.27688)scale(0.1 -0.1)\">\n       <defs>\n        <path d=\"M 8.203125 72.90625 \nL 55.078125 72.90625 \nL 55.078125 68.703125 \nL 28.609375 0 \nL 18.3125 0 \nL 43.21875 64.59375 \nL 8.203125 64.59375 \nz\n\" id=\"DejaVuSans-55\"/>\n       </defs>\n       <use xlink:href=\"#DejaVuSans-48\"/>\n       <use x=\"63.623047\" xlink:href=\"#DejaVuSans-46\"/>\n       <use x=\"95.410156\" xlink:href=\"#DejaVuSans-56\"/>\n       <use x=\"159.033203\" xlink:href=\"#DejaVuSans-55\"/>\n       <use x=\"222.65625\" xlink:href=\"#DejaVuSans-53\"/>\n      </g>\n     </g>\n    </g>\n    <g id=\"ytick_5\">\n     <g id=\"line2d_10\">\n      <g>\n       <use style=\"stroke:#000000;stroke-width:0.8;\" x=\"56.50625\" xlink:href=\"#m05daf073fb\" y=\"128.988207\"/>\n      </g>\n     </g>\n     <g id=\"text_11\">\n      <!-- 0.900 -->\n      <g transform=\"translate(20.878125 132.787426)scale(0.1 -0.1)\">\n       <defs>\n        <path d=\"M 10.984375 1.515625 \nL 10.984375 10.5 \nQ 14.703125 8.734375 18.5 7.8125 \nQ 22.3125 6.890625 25.984375 6.890625 \nQ 35.75 6.890625 40.890625 13.453125 \nQ 46.046875 20.015625 46.78125 33.40625 \nQ 43.953125 29.203125 39.59375 26.953125 \nQ 35.25 24.703125 29.984375 24.703125 \nQ 19.046875 24.703125 12.671875 31.3125 \nQ 6.296875 37.9375 6.296875 49.421875 \nQ 6.296875 60.640625 12.9375 67.421875 \nQ 19.578125 74.21875 30.609375 74.21875 \nQ 43.265625 74.21875 49.921875 64.515625 \nQ 56.59375 54.828125 56.59375 36.375 \nQ 56.59375 19.140625 48.40625 8.859375 \nQ 40.234375 -1.421875 26.421875 -1.421875 \nQ 22.703125 -1.421875 18.890625 -0.6875 \nQ 15.09375 0.046875 10.984375 1.515625 \nz\nM 30.609375 32.421875 \nQ 37.25 32.421875 41.125 36.953125 \nQ 45.015625 41.5 45.015625 49.421875 \nQ 45.015625 57.28125 41.125 61.84375 \nQ 37.25 66.40625 30.609375 66.40625 \nQ 23.96875 66.40625 20.09375 61.84375 \nQ 16.21875 57.28125 16.21875 49.421875 \nQ 16.21875 41.5 20.09375 36.953125 \nQ 23.96875 32.421875 30.609375 32.421875 \nz\n\" id=\"DejaVuSans-57\"/>\n       </defs>\n       <use xlink:href=\"#DejaVuSans-48\"/>\n       <use x=\"63.623047\" xlink:href=\"#DejaVuSans-46\"/>\n       <use x=\"95.410156\" xlink:href=\"#DejaVuSans-57\"/>\n       <use x=\"159.033203\" xlink:href=\"#DejaVuSans-48\"/>\n       <use x=\"222.65625\" xlink:href=\"#DejaVuSans-48\"/>\n      </g>\n     </g>\n    </g>\n    <g id=\"ytick_6\">\n     <g id=\"line2d_11\">\n      <g>\n       <use style=\"stroke:#000000;stroke-width:0.8;\" x=\"56.50625\" xlink:href=\"#m05daf073fb\" y=\"104.498754\"/>\n      </g>\n     </g>\n     <g id=\"text_12\">\n      <!-- 0.925 -->\n      <g transform=\"translate(20.878125 108.297973)scale(0.1 -0.1)\">\n       <use xlink:href=\"#DejaVuSans-48\"/>\n       <use x=\"63.623047\" xlink:href=\"#DejaVuSans-46\"/>\n       <use x=\"95.410156\" xlink:href=\"#DejaVuSans-57\"/>\n       <use x=\"159.033203\" xlink:href=\"#DejaVuSans-50\"/>\n       <use x=\"222.65625\" xlink:href=\"#DejaVuSans-53\"/>\n      </g>\n     </g>\n    </g>\n    <g id=\"ytick_7\">\n     <g id=\"line2d_12\">\n      <g>\n       <use style=\"stroke:#000000;stroke-width:0.8;\" x=\"56.50625\" xlink:href=\"#m05daf073fb\" y=\"80.0093\"/>\n      </g>\n     </g>\n     <g id=\"text_13\">\n      <!-- 0.950 -->\n      <g transform=\"translate(20.878125 83.808519)scale(0.1 -0.1)\">\n       <use xlink:href=\"#DejaVuSans-48\"/>\n       <use x=\"63.623047\" xlink:href=\"#DejaVuSans-46\"/>\n       <use x=\"95.410156\" xlink:href=\"#DejaVuSans-57\"/>\n       <use x=\"159.033203\" xlink:href=\"#DejaVuSans-53\"/>\n       <use x=\"222.65625\" xlink:href=\"#DejaVuSans-48\"/>\n      </g>\n     </g>\n    </g>\n    <g id=\"ytick_8\">\n     <g id=\"line2d_13\">\n      <g>\n       <use style=\"stroke:#000000;stroke-width:0.8;\" x=\"56.50625\" xlink:href=\"#m05daf073fb\" y=\"55.519847\"/>\n      </g>\n     </g>\n     <g id=\"text_14\">\n      <!-- 0.975 -->\n      <g transform=\"translate(20.878125 59.319065)scale(0.1 -0.1)\">\n       <use xlink:href=\"#DejaVuSans-48\"/>\n       <use x=\"63.623047\" xlink:href=\"#DejaVuSans-46\"/>\n       <use x=\"95.410156\" xlink:href=\"#DejaVuSans-57\"/>\n       <use x=\"159.033203\" xlink:href=\"#DejaVuSans-55\"/>\n       <use x=\"222.65625\" xlink:href=\"#DejaVuSans-53\"/>\n      </g>\n     </g>\n    </g>\n    <g id=\"ytick_9\">\n     <g id=\"line2d_14\">\n      <g>\n       <use style=\"stroke:#000000;stroke-width:0.8;\" x=\"56.50625\" xlink:href=\"#m05daf073fb\" y=\"31.030393\"/>\n      </g>\n     </g>\n     <g id=\"text_15\">\n      <!-- 1.000 -->\n      <g transform=\"translate(20.878125 34.829612)scale(0.1 -0.1)\">\n       <use xlink:href=\"#DejaVuSans-49\"/>\n       <use x=\"63.623047\" xlink:href=\"#DejaVuSans-46\"/>\n       <use x=\"95.410156\" xlink:href=\"#DejaVuSans-48\"/>\n       <use x=\"159.033203\" xlink:href=\"#DejaVuSans-48\"/>\n       <use x=\"222.65625\" xlink:href=\"#DejaVuSans-48\"/>\n      </g>\n     </g>\n    </g>\n    <g id=\"text_16\">\n     <!-- accuracy -->\n     <g transform=\"translate(14.798437 153.5975)rotate(-90)scale(0.1 -0.1)\">\n      <defs>\n       <path d=\"M 34.28125 27.484375 \nQ 23.390625 27.484375 19.1875 25 \nQ 14.984375 22.515625 14.984375 16.5 \nQ 14.984375 11.71875 18.140625 8.90625 \nQ 21.296875 6.109375 26.703125 6.109375 \nQ 34.1875 6.109375 38.703125 11.40625 \nQ 43.21875 16.703125 43.21875 25.484375 \nL 43.21875 27.484375 \nz\nM 52.203125 31.203125 \nL 52.203125 0 \nL 43.21875 0 \nL 43.21875 8.296875 \nQ 40.140625 3.328125 35.546875 0.953125 \nQ 30.953125 -1.421875 24.3125 -1.421875 \nQ 15.921875 -1.421875 10.953125 3.296875 \nQ 6 8.015625 6 15.921875 \nQ 6 25.140625 12.171875 29.828125 \nQ 18.359375 34.515625 30.609375 34.515625 \nL 43.21875 34.515625 \nL 43.21875 35.40625 \nQ 43.21875 41.609375 39.140625 45 \nQ 35.0625 48.390625 27.6875 48.390625 \nQ 23 48.390625 18.546875 47.265625 \nQ 14.109375 46.140625 10.015625 43.890625 \nL 10.015625 52.203125 \nQ 14.9375 54.109375 19.578125 55.046875 \nQ 24.21875 56 28.609375 56 \nQ 40.484375 56 46.34375 49.84375 \nQ 52.203125 43.703125 52.203125 31.203125 \nz\n\" id=\"DejaVuSans-97\"/>\n       <path d=\"M 8.5 21.578125 \nL 8.5 54.6875 \nL 17.484375 54.6875 \nL 17.484375 21.921875 \nQ 17.484375 14.15625 20.5 10.265625 \nQ 23.53125 6.390625 29.59375 6.390625 \nQ 36.859375 6.390625 41.078125 11.03125 \nQ 45.3125 15.671875 45.3125 23.6875 \nL 45.3125 54.6875 \nL 54.296875 54.6875 \nL 54.296875 0 \nL 45.3125 0 \nL 45.3125 8.40625 \nQ 42.046875 3.421875 37.71875 1 \nQ 33.40625 -1.421875 27.6875 -1.421875 \nQ 18.265625 -1.421875 13.375 4.4375 \nQ 8.5 10.296875 8.5 21.578125 \nz\nM 31.109375 56 \nz\n\" id=\"DejaVuSans-117\"/>\n       <path d=\"M 41.109375 46.296875 \nQ 39.59375 47.171875 37.8125 47.578125 \nQ 36.03125 48 33.890625 48 \nQ 26.265625 48 22.1875 43.046875 \nQ 18.109375 38.09375 18.109375 28.8125 \nL 18.109375 0 \nL 9.078125 0 \nL 9.078125 54.6875 \nL 18.109375 54.6875 \nL 18.109375 46.1875 \nQ 20.953125 51.171875 25.484375 53.578125 \nQ 30.03125 56 36.53125 56 \nQ 37.453125 56 38.578125 55.875 \nQ 39.703125 55.765625 41.0625 55.515625 \nz\n\" id=\"DejaVuSans-114\"/>\n       <path d=\"M 32.171875 -5.078125 \nQ 28.375 -14.84375 24.75 -17.8125 \nQ 21.140625 -20.796875 15.09375 -20.796875 \nL 7.90625 -20.796875 \nL 7.90625 -13.28125 \nL 13.1875 -13.28125 \nQ 16.890625 -13.28125 18.9375 -11.515625 \nQ 21 -9.765625 23.484375 -3.21875 \nL 25.09375 0.875 \nL 2.984375 54.6875 \nL 12.5 54.6875 \nL 29.59375 11.921875 \nL 46.6875 54.6875 \nL 56.203125 54.6875 \nz\n\" id=\"DejaVuSans-121\"/>\n      </defs>\n      <use xlink:href=\"#DejaVuSans-97\"/>\n      <use x=\"61.279297\" xlink:href=\"#DejaVuSans-99\"/>\n      <use x=\"116.259766\" xlink:href=\"#DejaVuSans-99\"/>\n      <use x=\"171.240234\" xlink:href=\"#DejaVuSans-117\"/>\n      <use x=\"234.619141\" xlink:href=\"#DejaVuSans-114\"/>\n      <use x=\"275.732422\" xlink:href=\"#DejaVuSans-97\"/>\n      <use x=\"337.011719\" xlink:href=\"#DejaVuSans-99\"/>\n      <use x=\"391.992188\" xlink:href=\"#DejaVuSans-121\"/>\n     </g>\n    </g>\n   </g>\n   <g id=\"line2d_15\">\n    <defs>\n     <path d=\"M 0 3 \nC 0.795609 3 1.55874 2.683901 2.12132 2.12132 \nC 2.683901 1.55874 3 0.795609 3 0 \nC 3 -0.795609 2.683901 -1.55874 2.12132 -2.12132 \nC 1.55874 -2.683901 0.795609 -3 0 -3 \nC -0.795609 -3 -1.55874 -2.683901 -2.12132 -2.12132 \nC -2.683901 -1.55874 -3 -0.795609 -3 0 \nC -3 0.795609 -2.683901 1.55874 -2.12132 2.12132 \nC -1.55874 2.683901 -0.795609 3 0 3 \nz\n\" id=\"mcf612e6e6e\" style=\"stroke:#0000ff;\"/>\n    </defs>\n    <g clip-path=\"url(#pddcb391627)\">\n     <use style=\"fill:#0000ff;stroke:#0000ff;\" x=\"71.724432\" xlink:href=\"#mcf612e6e6e\" y=\"229.874489\"/>\n     <use style=\"fill:#0000ff;stroke:#0000ff;\" x=\"105.542614\" xlink:href=\"#mcf612e6e6e\" y=\"69.393547\"/>\n     <use style=\"fill:#0000ff;stroke:#0000ff;\" x=\"139.360795\" xlink:href=\"#mcf612e6e6e\" y=\"51.090496\"/>\n     <use style=\"fill:#0000ff;stroke:#0000ff;\" x=\"173.178977\" xlink:href=\"#mcf612e6e6e\" y=\"40.840821\"/>\n     <use style=\"fill:#0000ff;stroke:#0000ff;\" x=\"206.997159\" xlink:href=\"#mcf612e6e6e\" y=\"35.569547\"/>\n     <use style=\"fill:#0000ff;stroke:#0000ff;\" x=\"240.815341\" xlink:href=\"#mcf612e6e6e\" y=\"36.448102\"/>\n     <use style=\"fill:#0000ff;stroke:#0000ff;\" x=\"274.633523\" xlink:href=\"#mcf612e6e6e\" y=\"34.983863\"/>\n     <use style=\"fill:#0000ff;stroke:#0000ff;\" x=\"308.451705\" xlink:href=\"#mcf612e6e6e\" y=\"36.301667\"/>\n     <use style=\"fill:#0000ff;stroke:#0000ff;\" x=\"342.269886\" xlink:href=\"#mcf612e6e6e\" y=\"32.641068\"/>\n     <use style=\"fill:#0000ff;stroke:#0000ff;\" x=\"376.088068\" xlink:href=\"#mcf612e6e6e\" y=\"32.201761\"/>\n    </g>\n   </g>\n   <g id=\"line2d_16\">\n    <path clip-path=\"url(#pddcb391627)\" d=\"M 71.724432 139.872402 \nL 105.542614 121.165194 \nL 139.360795 80.349419 \nL 173.178977 75.247469 \nL 206.997159 73.546819 \nL 240.815341 73.546819 \nL 274.633523 71.846169 \nL 308.451705 71.846169 \nL 342.269886 76.948119 \nL 376.088068 73.546819 \n\" style=\"fill:none;stroke:#0000ff;stroke-linecap:square;stroke-width:1.5;\"/>\n   </g>\n   <g id=\"patch_3\">\n    <path d=\"M 56.50625 239.758125 \nL 56.50625 22.318125 \n\" style=\"fill:none;stroke:#000000;stroke-linecap:square;stroke-linejoin:miter;stroke-width:0.8;\"/>\n   </g>\n   <g id=\"patch_4\">\n    <path d=\"M 391.30625 239.758125 \nL 391.30625 22.318125 \n\" style=\"fill:none;stroke:#000000;stroke-linecap:square;stroke-linejoin:miter;stroke-width:0.8;\"/>\n   </g>\n   <g id=\"patch_5\">\n    <path d=\"M 56.50625 239.758125 \nL 391.30625 239.758125 \n\" style=\"fill:none;stroke:#000000;stroke-linecap:square;stroke-linejoin:miter;stroke-width:0.8;\"/>\n   </g>\n   <g id=\"patch_6\">\n    <path d=\"M 56.50625 22.318125 \nL 391.30625 22.318125 \n\" style=\"fill:none;stroke:#000000;stroke-linecap:square;stroke-linejoin:miter;stroke-width:0.8;\"/>\n   </g>\n   <g id=\"text_17\">\n    <!-- training and validation accuracy -->\n    <g transform=\"translate(127.041875 16.318125)scale(0.12 -0.12)\">\n     <defs>\n      <path d=\"M 18.3125 70.21875 \nL 18.3125 54.6875 \nL 36.8125 54.6875 \nL 36.8125 47.703125 \nL 18.3125 47.703125 \nL 18.3125 18.015625 \nQ 18.3125 11.328125 20.140625 9.421875 \nQ 21.96875 7.515625 27.59375 7.515625 \nL 36.8125 7.515625 \nL 36.8125 0 \nL 27.59375 0 \nQ 17.1875 0 13.234375 3.875 \nQ 9.28125 7.765625 9.28125 18.015625 \nL 9.28125 47.703125 \nL 2.6875 47.703125 \nL 2.6875 54.6875 \nL 9.28125 54.6875 \nL 9.28125 70.21875 \nz\n\" id=\"DejaVuSans-116\"/>\n      <path d=\"M 9.421875 54.6875 \nL 18.40625 54.6875 \nL 18.40625 0 \nL 9.421875 0 \nz\nM 9.421875 75.984375 \nL 18.40625 75.984375 \nL 18.40625 64.59375 \nL 9.421875 64.59375 \nz\n\" id=\"DejaVuSans-105\"/>\n      <path d=\"M 54.890625 33.015625 \nL 54.890625 0 \nL 45.90625 0 \nL 45.90625 32.71875 \nQ 45.90625 40.484375 42.875 44.328125 \nQ 39.84375 48.1875 33.796875 48.1875 \nQ 26.515625 48.1875 22.3125 43.546875 \nQ 18.109375 38.921875 18.109375 30.90625 \nL 18.109375 0 \nL 9.078125 0 \nL 9.078125 54.6875 \nL 18.109375 54.6875 \nL 18.109375 46.1875 \nQ 21.34375 51.125 25.703125 53.5625 \nQ 30.078125 56 35.796875 56 \nQ 45.21875 56 50.046875 50.171875 \nQ 54.890625 44.34375 54.890625 33.015625 \nz\n\" id=\"DejaVuSans-110\"/>\n      <path d=\"M 45.40625 27.984375 \nQ 45.40625 37.75 41.375 43.109375 \nQ 37.359375 48.484375 30.078125 48.484375 \nQ 22.859375 48.484375 18.828125 43.109375 \nQ 14.796875 37.75 14.796875 27.984375 \nQ 14.796875 18.265625 18.828125 12.890625 \nQ 22.859375 7.515625 30.078125 7.515625 \nQ 37.359375 7.515625 41.375 12.890625 \nQ 45.40625 18.265625 45.40625 27.984375 \nz\nM 54.390625 6.78125 \nQ 54.390625 -7.171875 48.1875 -13.984375 \nQ 42 -20.796875 29.203125 -20.796875 \nQ 24.46875 -20.796875 20.265625 -20.09375 \nQ 16.0625 -19.390625 12.109375 -17.921875 \nL 12.109375 -9.1875 \nQ 16.0625 -11.328125 19.921875 -12.34375 \nQ 23.78125 -13.375 27.78125 -13.375 \nQ 36.625 -13.375 41.015625 -8.765625 \nQ 45.40625 -4.15625 45.40625 5.171875 \nL 45.40625 9.625 \nQ 42.625 4.78125 38.28125 2.390625 \nQ 33.9375 0 27.875 0 \nQ 17.828125 0 11.671875 7.65625 \nQ 5.515625 15.328125 5.515625 27.984375 \nQ 5.515625 40.671875 11.671875 48.328125 \nQ 17.828125 56 27.875 56 \nQ 33.9375 56 38.28125 53.609375 \nQ 42.625 51.21875 45.40625 46.390625 \nL 45.40625 54.6875 \nL 54.390625 54.6875 \nz\n\" id=\"DejaVuSans-103\"/>\n      <path id=\"DejaVuSans-32\"/>\n      <path d=\"M 45.40625 46.390625 \nL 45.40625 75.984375 \nL 54.390625 75.984375 \nL 54.390625 0 \nL 45.40625 0 \nL 45.40625 8.203125 \nQ 42.578125 3.328125 38.25 0.953125 \nQ 33.9375 -1.421875 27.875 -1.421875 \nQ 17.96875 -1.421875 11.734375 6.484375 \nQ 5.515625 14.40625 5.515625 27.296875 \nQ 5.515625 40.1875 11.734375 48.09375 \nQ 17.96875 56 27.875 56 \nQ 33.9375 56 38.25 53.625 \nQ 42.578125 51.265625 45.40625 46.390625 \nz\nM 14.796875 27.296875 \nQ 14.796875 17.390625 18.875 11.75 \nQ 22.953125 6.109375 30.078125 6.109375 \nQ 37.203125 6.109375 41.296875 11.75 \nQ 45.40625 17.390625 45.40625 27.296875 \nQ 45.40625 37.203125 41.296875 42.84375 \nQ 37.203125 48.484375 30.078125 48.484375 \nQ 22.953125 48.484375 18.875 42.84375 \nQ 14.796875 37.203125 14.796875 27.296875 \nz\n\" id=\"DejaVuSans-100\"/>\n      <path d=\"M 2.984375 54.6875 \nL 12.5 54.6875 \nL 29.59375 8.796875 \nL 46.6875 54.6875 \nL 56.203125 54.6875 \nL 35.6875 0 \nL 23.484375 0 \nz\n\" id=\"DejaVuSans-118\"/>\n      <path d=\"M 9.421875 75.984375 \nL 18.40625 75.984375 \nL 18.40625 0 \nL 9.421875 0 \nz\n\" id=\"DejaVuSans-108\"/>\n     </defs>\n     <use xlink:href=\"#DejaVuSans-116\"/>\n     <use x=\"39.208984\" xlink:href=\"#DejaVuSans-114\"/>\n     <use x=\"80.322266\" xlink:href=\"#DejaVuSans-97\"/>\n     <use x=\"141.601562\" xlink:href=\"#DejaVuSans-105\"/>\n     <use x=\"169.384766\" xlink:href=\"#DejaVuSans-110\"/>\n     <use x=\"232.763672\" xlink:href=\"#DejaVuSans-105\"/>\n     <use x=\"260.546875\" xlink:href=\"#DejaVuSans-110\"/>\n     <use x=\"323.925781\" xlink:href=\"#DejaVuSans-103\"/>\n     <use x=\"387.402344\" xlink:href=\"#DejaVuSans-32\"/>\n     <use x=\"419.189453\" xlink:href=\"#DejaVuSans-97\"/>\n     <use x=\"480.46875\" xlink:href=\"#DejaVuSans-110\"/>\n     <use x=\"543.847656\" xlink:href=\"#DejaVuSans-100\"/>\n     <use x=\"607.324219\" xlink:href=\"#DejaVuSans-32\"/>\n     <use x=\"639.111328\" xlink:href=\"#DejaVuSans-118\"/>\n     <use x=\"698.291016\" xlink:href=\"#DejaVuSans-97\"/>\n     <use x=\"759.570312\" xlink:href=\"#DejaVuSans-108\"/>\n     <use x=\"787.353516\" xlink:href=\"#DejaVuSans-105\"/>\n     <use x=\"815.136719\" xlink:href=\"#DejaVuSans-100\"/>\n     <use x=\"878.613281\" xlink:href=\"#DejaVuSans-97\"/>\n     <use x=\"939.892578\" xlink:href=\"#DejaVuSans-116\"/>\n     <use x=\"979.101562\" xlink:href=\"#DejaVuSans-105\"/>\n     <use x=\"1006.884766\" xlink:href=\"#DejaVuSans-111\"/>\n     <use x=\"1068.066406\" xlink:href=\"#DejaVuSans-110\"/>\n     <use x=\"1131.445312\" xlink:href=\"#DejaVuSans-32\"/>\n     <use x=\"1163.232422\" xlink:href=\"#DejaVuSans-97\"/>\n     <use x=\"1224.511719\" xlink:href=\"#DejaVuSans-99\"/>\n     <use x=\"1279.492188\" xlink:href=\"#DejaVuSans-99\"/>\n     <use x=\"1334.472656\" xlink:href=\"#DejaVuSans-117\"/>\n     <use x=\"1397.851562\" xlink:href=\"#DejaVuSans-114\"/>\n     <use x=\"1438.964844\" xlink:href=\"#DejaVuSans-97\"/>\n     <use x=\"1500.244141\" xlink:href=\"#DejaVuSans-99\"/>\n     <use x=\"1555.224609\" xlink:href=\"#DejaVuSans-121\"/>\n    </g>\n   </g>\n   <g id=\"legend_1\">\n    <g id=\"patch_7\">\n     <path d=\"M 282.621875 234.758125 \nL 384.30625 234.758125 \nQ 386.30625 234.758125 386.30625 232.758125 \nL 386.30625 204.401875 \nQ 386.30625 202.401875 384.30625 202.401875 \nL 282.621875 202.401875 \nQ 280.621875 202.401875 280.621875 204.401875 \nL 280.621875 232.758125 \nQ 280.621875 234.758125 282.621875 234.758125 \nz\n\" style=\"fill:#ffffff;opacity:0.8;stroke:#cccccc;stroke-linejoin:miter;\"/>\n    </g>\n    <g id=\"line2d_17\"/>\n    <g id=\"line2d_18\">\n     <g>\n      <use style=\"fill:#0000ff;stroke:#0000ff;\" x=\"294.621875\" xlink:href=\"#mcf612e6e6e\" y=\"210.500312\"/>\n     </g>\n    </g>\n    <g id=\"text_18\">\n     <!-- Training acc -->\n     <g transform=\"translate(312.621875 214.000312)scale(0.1 -0.1)\">\n      <defs>\n       <path d=\"M -0.296875 72.90625 \nL 61.375 72.90625 \nL 61.375 64.59375 \nL 35.5 64.59375 \nL 35.5 0 \nL 25.59375 0 \nL 25.59375 64.59375 \nL -0.296875 64.59375 \nz\n\" id=\"DejaVuSans-84\"/>\n      </defs>\n      <use xlink:href=\"#DejaVuSans-84\"/>\n      <use x=\"46.333984\" xlink:href=\"#DejaVuSans-114\"/>\n      <use x=\"87.447266\" xlink:href=\"#DejaVuSans-97\"/>\n      <use x=\"148.726562\" xlink:href=\"#DejaVuSans-105\"/>\n      <use x=\"176.509766\" xlink:href=\"#DejaVuSans-110\"/>\n      <use x=\"239.888672\" xlink:href=\"#DejaVuSans-105\"/>\n      <use x=\"267.671875\" xlink:href=\"#DejaVuSans-110\"/>\n      <use x=\"331.050781\" xlink:href=\"#DejaVuSans-103\"/>\n      <use x=\"394.527344\" xlink:href=\"#DejaVuSans-32\"/>\n      <use x=\"426.314453\" xlink:href=\"#DejaVuSans-97\"/>\n      <use x=\"487.59375\" xlink:href=\"#DejaVuSans-99\"/>\n      <use x=\"542.574219\" xlink:href=\"#DejaVuSans-99\"/>\n     </g>\n    </g>\n    <g id=\"line2d_19\">\n     <path d=\"M 284.621875 225.178437 \nL 304.621875 225.178437 \n\" style=\"fill:none;stroke:#0000ff;stroke-linecap:square;stroke-width:1.5;\"/>\n    </g>\n    <g id=\"line2d_20\"/>\n    <g id=\"text_19\">\n     <!-- Validation acc -->\n     <g transform=\"translate(312.621875 228.678437)scale(0.1 -0.1)\">\n      <defs>\n       <path d=\"M 28.609375 0 \nL 0.78125 72.90625 \nL 11.078125 72.90625 \nL 34.1875 11.53125 \nL 57.328125 72.90625 \nL 67.578125 72.90625 \nL 39.796875 0 \nz\n\" id=\"DejaVuSans-86\"/>\n      </defs>\n      <use xlink:href=\"#DejaVuSans-86\"/>\n      <use x=\"60.658203\" xlink:href=\"#DejaVuSans-97\"/>\n      <use x=\"121.9375\" xlink:href=\"#DejaVuSans-108\"/>\n      <use x=\"149.720703\" xlink:href=\"#DejaVuSans-105\"/>\n      <use x=\"177.503906\" xlink:href=\"#DejaVuSans-100\"/>\n      <use x=\"240.980469\" xlink:href=\"#DejaVuSans-97\"/>\n      <use x=\"302.259766\" xlink:href=\"#DejaVuSans-116\"/>\n      <use x=\"341.46875\" xlink:href=\"#DejaVuSans-105\"/>\n      <use x=\"369.251953\" xlink:href=\"#DejaVuSans-111\"/>\n      <use x=\"430.433594\" xlink:href=\"#DejaVuSans-110\"/>\n      <use x=\"493.8125\" xlink:href=\"#DejaVuSans-32\"/>\n      <use x=\"525.599609\" xlink:href=\"#DejaVuSans-97\"/>\n      <use x=\"586.878906\" xlink:href=\"#DejaVuSans-99\"/>\n      <use x=\"641.859375\" xlink:href=\"#DejaVuSans-99\"/>\n     </g>\n    </g>\n   </g>\n  </g>\n </g>\n <defs>\n  <clipPath id=\"pddcb391627\">\n   <rect height=\"217.44\" width=\"334.8\" x=\"56.50625\" y=\"22.318125\"/>\n  </clipPath>\n </defs>\n</svg>\n",
      "image/png": "[encoded data removed]"
     },
     "metadata": {
      "needs_background": "light"
     }
    }
   ],
   "source": [
    "# 绘制训练精度和验证精度\n",
    "# 清空图像\n",
    "plt.clf()\n",
    "acc = history_dict['acc']\n",
    "val_acc = history_dict['val_acc']\n",
    "\n",
    "# 蓝色圆点\n",
    "plt.plot( epochs, acc, 'bo', label='Training acc' )\n",
    "# 蓝色实线\n",
    "plt.plot( epochs, val_acc, 'b', label='Validation acc' )\n",
    "# 在第六轮的时候validation上的loss达到最小值了\n",
    "plt.title('training and validation accuracy')\n",
    "plt.xlabel('epochs')\n",
    "plt.ylabel('accuracy')\n",
    "plt.legend()\n",
    "plt.show()\n"
   ]
  },
  {
   "cell_type": "code",
   "execution_count": 451,
   "metadata": {},
   "outputs": [],
   "source": [
    "# 重新训练一个模型"
   ]
  },
  {
   "cell_type": "code",
   "execution_count": 828,
   "metadata": {
    "tags": []
   },
   "outputs": [
    {
     "output_type": "stream",
     "name": "stdout",
     "text": "Model: \"sequential_54\"\n_________________________________________________________________\nLayer (type)                 Output Shape              Param #   \n=================================================================\nbidirectional_54 (Bidirectio (None, 3, 128)            426496    \n_________________________________________________________________\nseq_weighted_attention_50 (S (None, 128)               129       \n_________________________________________________________________\ndropout_45 (Dropout)         (None, 128)               0         \n_________________________________________________________________\ndense_54 (Dense)             (None, 8)                 1032      \n=================================================================\nTotal params: 427,657\nTrainable params: 427,657\nNon-trainable params: 0\n_________________________________________________________________\n"
    }
   ],
   "source": [
    "# 搭建网络\n",
    "# create model\n",
    "model = Sequential()\n",
    "# BiLSTM + Attention\n",
    "# 超参数 LSTM/GRU  神经元数目 32/64/128\n",
    "model.add( Bidirectional(LSTM(64, return_sequences=True), input_shape=input_shape) )\n",
    "model.add( SeqWeightedAttention() )\n",
    "model.add( Dropout(0.2) )\n",
    "# NN Output\n",
    "model.add( Dense(num_of_classes, activation='softmax') )\n",
    "#\n",
    "# compile model\n",
    "# 无论你的问题是什么， rmsprop 优化器通常都是足够好的选择\n",
    "# 超参数：除学习率可调整外，建议保持优化器的其他默认参数不变. default lr=0.001\n",
    "model.compile(optimizer='rmsprop', loss='categorical_crossentropy', metrics=['acc'])\n",
    "model.summary()"
   ]
  },
  {
   "cell_type": "code",
   "execution_count": 829,
   "metadata": {
    "tags": []
   },
   "outputs": [
    {
     "output_type": "stream",
     "name": "stdout",
     "text": "Epoch 1/3\n8346/8346 [==============================] - 6s 711us/step - loss: 0.4639 - acc: 0.8186\nEpoch 2/3\n8346/8346 [==============================] - 1s 128us/step - loss: 0.1244 - acc: 0.9605\nEpoch 3/3\n8346/8346 [==============================] - 1s 126us/step - loss: 0.0565 - acc: 0.9841\n"
    },
    {
     "output_type": "execute_result",
     "data": {
      "text/plain": "<keras.callbacks.callbacks.History at 0x7fe0767d00f0>"
     },
     "metadata": {},
     "execution_count": 829
    }
   ],
   "source": [
    "# 使用所有的数据进行训练\n",
    "# early stopping at epochs=2\n",
    "model.fit( all_x_train, all_y_train, epochs=3, batch_size=64 )"
   ]
  },
  {
   "cell_type": "code",
   "execution_count": 830,
   "metadata": {},
   "outputs": [],
   "source": [
    "# 保存模型\n",
    "if target_attribute not in dict_of_trained_classifiers:\n",
    "    dict_of_trained_classifiers.setdefault( target_attribute, model )\n",
    "else:\n",
    "    dict_of_trained_classifiers[target_attribute] = model"
   ]
  },
  {
   "cell_type": "code",
   "execution_count": 831,
   "metadata": {},
   "outputs": [
    {
     "output_type": "execute_result",
     "data": {
      "text/plain": "{'Assertion': <keras.engine.sequential.Sequential at 0x7fe07a1394a8>,\n 'Severity': <keras.engine.sequential.Sequential at 0x7fdf1c7e5e48>,\n 'Temporal': <keras.engine.sequential.Sequential at 0x7fe075fcafd0>,\n 'Sensation': <keras.engine.sequential.Sequential at 0x7fe08548d668>,\n 'Color': <keras.engine.sequential.Sequential at 0x7fe084d3b518>,\n 'Age': <keras.engine.sequential.Sequential at 0x7fe084365160>,\n 'Gender': <keras.engine.sequential.Sequential at 0x7fe078da1240>,\n 'Frequency': <keras.engine.sequential.Sequential at 0x7fe079c7d470>,\n 'Distribution': <keras.engine.sequential.Sequential at 0x7fe06ae1f6a0>,\n 'SOI': <keras.engine.sequential.Sequential at 0x7fe076ade860>}"
     },
     "metadata": {},
     "execution_count": 831
    }
   ],
   "source": [
    "dict_of_trained_classifiers"
   ]
  },
  {
   "cell_type": "code",
   "execution_count": 502,
   "metadata": {},
   "outputs": [],
   "source": [
    "# dict_of_trained_classifiers[target_attribute].predict( all_x_train )"
   ]
  },
  {
   "cell_type": "code",
   "execution_count": 503,
   "metadata": {},
   "outputs": [],
   "source": [
    "# 基于上述模型对测试集进行预测，并将 annotation 变量中增加预测的属性值"
   ]
  },
  {
   "cell_type": "code",
   "execution_count": 504,
   "metadata": {},
   "outputs": [],
   "source": [
    "# list of context/pheno/context vectors (3*768 ndarray) encoding with bert\n",
    "# testing_list_of_pheno_vectors = []\n",
    "# 带上 disease_name , phenoid 的标记，便于追踪\n",
    "# testing_list_of_pheno_ids = []"
   ]
  },
  {
   "cell_type": "code",
   "execution_count": 832,
   "metadata": {},
   "outputs": [],
   "source": [
    "# \n",
    "results = dict_of_trained_classifiers['Severity'].predict( np.array(testing_list_of_pheno_vectors) )"
   ]
  },
  {
   "cell_type": "code",
   "execution_count": 833,
   "metadata": {},
   "outputs": [
    {
     "output_type": "execute_result",
     "data": {
      "text/plain": "Counter({0: 1064, 1: 32, 2: 8})"
     },
     "metadata": {},
     "execution_count": 833
    }
   ],
   "source": [
    "Counter( list( np.argmax(results, axis=1)  )  ) "
   ]
  },
  {
   "cell_type": "code",
   "execution_count": 834,
   "metadata": {},
   "outputs": [],
   "source": [
    "# testing_list_of_pheno_vectors[0]"
   ]
  },
  {
   "cell_type": "code",
   "execution_count": 835,
   "metadata": {
    "tags": []
   },
   "outputs": [
    {
     "output_type": "stream",
     "name": "stdout",
     "text": "Assertion {0: 'Present', 1: 'Possible', 2: 'Conditional', 3: 'Absent', 4: 'Hypothetical'}\nCounter({'Present': 652, 'Possible': 450, 'Conditional': 2})\nSeverity {0: 'None', 1: 'Severe', 2: 'Mild', 3: 'Moderate_to_Severe', 4: 'Life_threatening_severity', 5: 'Mild_to_Moderate'}\nCounter({'None': 1064, 'Severe': 32, 'Mild': 8})\nTemporal {0: 'None', 1: 'Chronic', 2: 'Nocturnal', 3: 'Acute', 4: 'Subacute', 5: 'Recurrent', 6: 'Transient', 7: 'Prolonged'}\nCounter({'None': 1077, 'Acute': 15, 'Chronic': 12})\nSensation {0: 'None', 1: 'Tender', 2: 'Burning', 3: 'Painless', 4: 'Cramping', 5: 'Stabbing', 6: 'Pricking', 7: 'Tinkling', 8: 'Colicky', 9: 'Hot'}\nCounter({'None': 1087, 'Tender': 5, 'Burning': 4, 'Painless': 4, 'Cramping': 4})\nColor {0: 'None', 1: 'Gray', 2: 'Red', 3: 'Black', 4: 'White', 5: 'Yellow_green', 6: 'Pink', 7: 'Yellow', 8: 'Green', 9: 'Blue'}\nCounter({'None': 1067, 'Red': 30, 'Black': 5, 'Gray': 2})\nAge {0: 'None', 1: 'Childhood', 2: 'Pregnancy', 3: 'Adult', 4: 'Infancy', 5: 'Neonatal', 6: 'Old_age', 7: 'Young_adult', 8: 'Adolescent'}\nCounter({'None': 1043, 'Childhood': 28, 'Adult': 14, 'Infancy': 10, 'Pregnancy': 4, 'Young_adult': 3, 'Old_age': 2})\nGender {0: 'None', 1: 'Female', 2: 'Male'}\nCounter({'None': 1064, 'Female': 31, 'Male': 9})\nFrequency {0: 'None', 1: 'Occasional', 2: 'Frequent', 3: 'Very_rare', 4: 'Very_frequent', 5: 'Obligate'}\nCounter({'None': 718, 'Frequent': 211, 'Occasional': 122, 'Very_rare': 28, 'Very_frequent': 25})\nDistribution {0: 'None', 1: 'Generalized', 2: 'Diffuse', 3: 'Localized', 4: 'Multifocal', 5: 'Distal', 6: 'Focal'}\nCounter({'None': 1095, 'Diffuse': 5, 'Generalized': 4})\nSOI {0: 'None', 1: 'Severe_problem', 2: 'Mild_problem'}\nCounter({'None': 1056, 'Severe_problem': 44, 'Mild_problem': 4})\nCPU times: user 14.3 s, sys: 2.74 s, total: 17.1 s\nWall time: 10.6 s\n"
    }
   ],
   "source": [
    "%%time\n",
    "# 测试集上表型各个属性的预测值\n",
    "dict_of_pred_attributes = {}\n",
    "\n",
    "for attribute_name in dict_of_trained_classifiers:\n",
    "\n",
    "    # 对目标属性的取值进行数字编码\n",
    "    codes_of_attribute_values = {}\n",
    "    #\n",
    "    # default的属性取值设置为0\n",
    "    if attribute_name == 'Assertion':\n",
    "        codes_of_attribute_values.setdefault( 0, \"Present\")\n",
    "    else:\n",
    "        codes_of_attribute_values.setdefault( 0, \"None\" )  \n",
    "    #\n",
    "    # 观察目标属性在语料集中的出现情况\n",
    "    # 观察目标属性在训练集中的出现情况\n",
    "    present_of_attribute_values = stat_occurences_of_attribute_values(attribute_name, diseases_used_for_training)\n",
    "    # 该属性在训练集中出现的类别数 len( present_of_attribute_values )\n",
    "    #\n",
    "    # 对出现过的目标属性取值进行数字编码\n",
    "    for attribute_value in present_of_attribute_values:\n",
    "        if attribute_value != 'Present':\n",
    "            # 赋予编号\n",
    "            count_of_attribute_value = present_of_attribute_values[ attribute_value ] \n",
    "            #\n",
    "            code_of_attribute_value = len( codes_of_attribute_values )\n",
    "            codes_of_attribute_values.setdefault( code_of_attribute_value, attribute_value )\n",
    "\n",
    "\n",
    "    # 该属性的预测模型\n",
    "    attr_pred_model = dict_of_trained_classifiers[attribute_name]\n",
    "    # 预测测试集\n",
    "    test_preds = attr_pred_model.predict( np.array(testing_list_of_pheno_vectors) ) \n",
    "    # 对预测结果进行解码\n",
    "    test_labels = []\n",
    "    # codes_of_attribute_values {'None': 0, 'Severe_problem': 1, 'Mild_problem': 2}\n",
    "    for idx in list( np.argmax(test_preds, axis=1)  ):\n",
    "        test_labels.append( codes_of_attribute_values[idx] )  \n",
    "\n",
    "    #\n",
    "    print(attribute_name, codes_of_attribute_values)  \n",
    "    print( Counter(test_labels) )      \n",
    "\n",
    "    # 记录\n",
    "    if attribute_name not in dict_of_pred_attributes: \n",
    "        dict_of_pred_attributes.setdefault( attribute_name, test_labels )\n",
    "    else:\n",
    "        dict_of_pred_attributes[attribute_name] = test_labels "
   ]
  },
  {
   "cell_type": "code",
   "execution_count": 836,
   "metadata": {},
   "outputs": [],
   "source": [
    "# dict_of_pred_attributes.keys()"
   ]
  },
  {
   "cell_type": "code",
   "execution_count": 837,
   "metadata": {},
   "outputs": [
    {
     "output_type": "execute_result",
     "data": {
      "text/plain": "['None', 'None', 'None']"
     },
     "metadata": {},
     "execution_count": 837
    }
   ],
   "source": [
    "dict_of_pred_attributes['Severity'][0:3]"
   ]
  },
  {
   "cell_type": "code",
   "execution_count": 838,
   "metadata": {},
   "outputs": [],
   "source": [
    "# 将预测结果更新到 annotated_phenotypes_info_of_diseases\n",
    "for disease_name in list( annotated_phenotypes_info_of_diseases.keys() ):\n",
    "    # 仅看训练集中的疾病\n",
    "    if disease_name not in diseases_used_for_test:\n",
    "        continue\n",
    "\n",
    "    # \n",
    "    # 该疾病文档中标注的表型及其关联属性\n",
    "    info_of_annotated_phenotypes = annotated_phenotypes_info_of_diseases[disease_name]\n",
    "\n",
    "    # 对于该疾病文档中标注的每一个表型\n",
    "    for pheno_id in info_of_annotated_phenotypes:\n",
    "        # 获取该变量中存储的表型相关信息\n",
    "        pheno_info = info_of_annotated_phenotypes[pheno_id]\n",
    "\n",
    "\n",
    "        # 设置该表型属性槽的默认值 (同时记录判断依据)\n",
    "        default_values_of_attributes = {}\n",
    "\n",
    "        # 这里其实没有触发信号，但还是这样保留着吧; 只考虑模型能够预测的属性列表\n",
    "        for attribute_name in list_of_attributes:\n",
    "            if attribute_name == 'Assertion':\n",
    "                default_values_of_attributes.setdefault( attribute_name, ['Present',''] )\n",
    "            else:\n",
    "                default_values_of_attributes.setdefault( attribute_name, ['None',''] )   \n",
    "\n",
    "        #  \n",
    "        # 之前的一个问题 (这种表型的属性槽设置为全部默认即可) 数量不多，9个\n",
    "        if 'pheno_context' not in pheno_info or (disease_name, pheno_id) not in testing_list_of_pheno_ids:\n",
    "            if 'pred_attribute_values' not in annotated_phenotypes_info_of_diseases[disease_name][pheno_id]:\n",
    "                annotated_phenotypes_info_of_diseases[disease_name][pheno_id].setdefault( 'pred_attribute_values', \n",
    "                                                                                        default_values_of_attributes )\n",
    "            else:\n",
    "                annotated_phenotypes_info_of_diseases[disease_name][pheno_id]['pred_attribute_values'] =        default_values_of_attributes   \n",
    "            #            \n",
    "            # 跳过后续操作\n",
    "            continue      \n",
    "\n",
    "        \n",
    "        # 获取模型填充的各属性取值\n",
    "        # 根据 disease_name, pheno_id 搜索其在 testing_list_of_pheno_ids 中的索引\n",
    "        if (disease_name, pheno_id) in testing_list_of_pheno_ids:\n",
    "            idx_in_preds = testing_list_of_pheno_ids.index( (disease_name, pheno_id) )\n",
    "            # 据此获取 dict_of_pred_attributes.setdefault( attribute_name, test_labels ) \n",
    "            for attribute_name in dict_of_pred_attributes:\n",
    "                # 更新默认值 dict_of_pred_attributes[attribute_name][ idx_in_preds ]\n",
    "                default_values_of_attributes[ attribute_name ][0] = dict_of_pred_attributes[attribute_name][ idx_in_preds ]\n",
    "        \n",
    "        # 记录更改后的 default_values_of_attributes 到该表型的信息中\n",
    "        if 'pred_attribute_values' not in annotated_phenotypes_info_of_diseases[disease_name][pheno_id]:\n",
    "            annotated_phenotypes_info_of_diseases[disease_name][pheno_id].setdefault( 'pred_attribute_values', \n",
    "                                                                                    default_values_of_attributes )\n",
    "        else:\n",
    "            annotated_phenotypes_info_of_diseases[disease_name][pheno_id]['pred_attribute_values'] = default_values_of_attributes\n"
   ]
  },
  {
   "cell_type": "code",
   "execution_count": 839,
   "metadata": {},
   "outputs": [
    {
     "output_type": "execute_result",
     "data": {
      "text/plain": "'Poliomyelitis'"
     },
     "metadata": {},
     "execution_count": 839
    }
   ],
   "source": [
    "# 找一个疾病看看效果\n",
    "diseases_used_for_test[0]"
   ]
  },
  {
   "cell_type": "code",
   "execution_count": 840,
   "metadata": {},
   "outputs": [
    {
     "output_type": "execute_result",
     "data": {
      "text/plain": "{'pheno_name': 'constipation',\n 'pheno_pos': '650 662',\n 'associated_sites': '',\n 'associated_attributes': 'Assertion:Possible;Frequency:Very_rare;Type:Type_1',\n 'pheno_context': 'Rarely, the infection produces minor symptoms; these may include upper respiratory tract infection (sore throat and fever), gastrointestinal disturbances (nausea, vomiting, abdominal pain, constipation or, rarely, diarrhea), and influenza-like illness.',\n 'pheno_pos_in_sent': (189, 201),\n 'pred_attribute_values': {'Assertion': ['Present', ''],\n  'Severity': ['None', ''],\n  'Temporal': ['None', ''],\n  'Sensation': ['None', ''],\n  'Color': ['None', ''],\n  'Age': ['None', ''],\n  'Gender': ['None', ''],\n  'Frequency': ['Frequent', ''],\n  'Distribution': ['None', ''],\n  'SOI': ['None', '']}}"
     },
     "metadata": {},
     "execution_count": 840
    }
   ],
   "source": [
    "# 找一个疾病看看效果\n",
    "annotated_phenotypes_info_of_diseases['Poliomyelitis']['T6']"
   ]
  },
  {
   "cell_type": "code",
   "execution_count": 841,
   "metadata": {},
   "outputs": [],
   "source": [
    "# 测试集上的性能评估"
   ]
  },
  {
   "cell_type": "code",
   "execution_count": 842,
   "metadata": {},
   "outputs": [],
   "source": [
    "# 所有/单个属性的预测准确率 (accuracy)\n",
    "# 所有属性带权重的预测准确率 (weighted accuracy) -- 这里没有单个的说法了\n",
    "\n",
    "# 对于不同的属性\n",
    "# {\"Severity\":[表型的属性列表]}\n",
    "y_preds = {}\n",
    "y_trues = {}\n",
    "\n",
    "for attribute in list_of_attributes:\n",
    "    y_preds.setdefault(attribute,[])\n",
    "    y_trues.setdefault(attribute,[])\n",
    "\n",
    "# \n",
    "for disease_name in list( annotated_phenotypes_info_of_diseases.keys() ):\n",
    "    # 仅看测试集中的疾病\n",
    "    if disease_name not in diseases_used_for_test:\n",
    "        continue\n",
    "\n",
    "    # print(disease_name)\n",
    "\n",
    "    # 该疾病文档中标注的表型及其关联属性\n",
    "    info_of_annotated_phenotypes = annotated_phenotypes_info_of_diseases[disease_name]\n",
    "\n",
    "    # 对于该疾病文档中标注的每一个表型\n",
    "    for pheno_id in info_of_annotated_phenotypes:\n",
    "        # 获取该变量中存储的表型相关信息\n",
    "        pheno_info = info_of_annotated_phenotypes[pheno_id]\n",
    "\n",
    "        # 该表型人工标注的属性\n",
    "        string_of_true_attribute_values = pheno_info['associated_attributes']   \n",
    "        # 如果人工标注的属性中有Stage:Stage_1, 去除\n",
    "        true_attribute_values = []\n",
    "        \n",
    "        for attribute_value in string_of_true_attribute_values.split(';'):\n",
    "            if 'Stage:Stage_' not in attribute_value:\n",
    "                true_attribute_values.append( attribute_value )\n",
    "\n",
    "\n",
    "        # 写入到 y_trues \n",
    "        for attribute_name in y_trues:\n",
    "            # 这里只有可选属性的时候会触发\n",
    "            if attribute_name not in string_of_true_attribute_values:\n",
    "                # 设为 attribute_name +':' + 'None'\n",
    "                y_trues[attribute_name].append('None')\n",
    "            else:\n",
    "                # 如果 attribute_name 存在, 直接使用 true_attribute_values 中的值\n",
    "                for attribute_value in true_attribute_values:\n",
    "                    selected_attribute, selected_value = attribute_value.split(':')\n",
    "                    #\n",
    "                    if attribute_name == selected_attribute:\n",
    "                        y_trues[attribute_name].append( selected_value )\n",
    "\n",
    "\n",
    "        # 对应的，该表型算法预测的属性\n",
    "        pred_attribute_values = pheno_info['pred_attribute_values']     \n",
    "\n",
    "        # 写入到 y_preds \n",
    "        for attribute_name in y_preds:\n",
    "            # 这条规则是不会触发的\n",
    "            if attribute_name not in pred_attribute_values:\n",
    "                # 设为 attribute_name +':' + 'None'\n",
    "                y_preds[attribute_name].append('None')    \n",
    "            else:\n",
    "                # 如果 attribute_name 存在\n",
    "                for selected_attribute in pred_attribute_values:\n",
    "                    selected_value = pred_attribute_values[selected_attribute][0]\n",
    "                    #\n",
    "                    if attribute_name == selected_attribute:\n",
    "                        y_preds[attribute_name].append( selected_value )                "
   ]
  },
  {
   "cell_type": "code",
   "execution_count": 843,
   "metadata": {
    "tags": []
   },
   "outputs": [
    {
     "output_type": "stream",
     "name": "stdout",
     "text": "\n*******\n属性名称: Assertion\n预测正确率: 1104 726 0.658\n0.658 (726/1104)\n\n*******\n属性名称: Severity\n预测正确率: 1104 1057 0.957\n0.957 (1057/1104)\n\n*******\n属性名称: Temporal\n预测正确率: 1104 1049 0.95\n0.950 (1049/1104)\n\n*******\n属性名称: Sensation\n预测正确率: 1104 1087 0.985\n0.985 (1087/1104)\n\n*******\n属性名称: Color\n预测正确率: 1104 1062 0.962\n0.962 (1062/1104)\n\n*******\n属性名称: Age\n预测正确率: 1104 1036 0.938\n0.938 (1036/1104)\n\n*******\n属性名称: Gender\n预测正确率: 1104 1078 0.976\n0.976 (1078/1104)\n\n*******\n属性名称: Frequency\n预测正确率: 1104 779 0.706\n0.706 (779/1104)\n\n*******\n属性名称: Distribution\n预测正确率: 1104 1094 0.991\n0.991 (1094/1104)\n\n*******\n属性名称: SOI\n预测正确率: 1104 1034 0.937\n0.937 (1034/1104)\n"
    }
   ],
   "source": [
    "# 根据 y_preds 和 y_trues 计算各个属性预测的准确率\n",
    "# 不同属性预测正确的数目\n",
    "\n",
    "for attribute_name in y_trues:\n",
    "    # 该属性预测正确的计数\n",
    "    count_correct_pred_all = 0\n",
    "    # 该属性各分类预测正确的计数\n",
    "    count_correct_pred_eachs = {}\n",
    "\n",
    "    true_labels = y_trues[attribute_name]\n",
    "    pred_labels = y_preds[attribute_name]\n",
    "\n",
    "    # 计算一致性\n",
    "    for true_label, pred_label in zip( true_labels, pred_labels ):\n",
    "        if true_label == pred_label:\n",
    "            count_correct_pred_all +=1\n",
    "            # \n",
    "            if true_label not in count_correct_pred_eachs:\n",
    "                count_correct_pred_eachs.setdefault( true_label, 1 )\n",
    "            else:\n",
    "                count_correct_pred_eachs[true_label] +=1\n",
    "    \n",
    "    # \n",
    "    print(\"\\n*******\")\n",
    "    print(\"属性名称:\", attribute_name )\n",
    "    print(\"预测正确率:\", len(true_labels), count_correct_pred_all, round( count_correct_pred_all/len(true_labels), 3) )\n",
    "    print( '%.3f'%( count_correct_pred_all/len(true_labels) ), \n",
    "            '(' + str(count_correct_pred_all) + '/' + str(len(true_labels) ) + ')' )    \n",
    "    # 需要知道各分类的数目, 用Counter来统计各分类\n",
    "    # print(\"各分类预测正确率:\")\n",
    "    # result = Counter(true_labels)\n",
    "    # for label_name in result:\n",
    "    #     label_count = result[label_name]\n",
    "    #     correct_pred = count_correct_pred_eachs[label_name]\n",
    "    #     print( label_count, correct_pred, round( correct_pred/label_count, 2) )\n"
   ]
  },
  {
   "cell_type": "code",
   "execution_count": 844,
   "metadata": {},
   "outputs": [],
   "source": [
    "# 计算测试集上各属性预测的weighted accuracy (它比宏平均更好)\n",
    "# 核心指标\n",
    "# overall evaluation metrics for task 2a\n",
    "# accuracy\n",
    "# weighted accuracy\n",
    "# per-slot weighted accuracy"
   ]
  },
  {
   "cell_type": "code",
   "execution_count": 845,
   "metadata": {},
   "outputs": [
    {
     "output_type": "execute_result",
     "data": {
      "text/plain": "4019"
     },
     "metadata": {},
     "execution_count": 845
    }
   ],
   "source": [
    "# 维基语料集中总的标注的表型实体数量\n",
    "total_annotated_phenotypes = 0\n",
    "\n",
    "counts_for_assertion_values  = stat_occurences_of_attribute_values('Assertion', list_of_diseases)\n",
    "for assertion_value in counts_for_assertion_values:\n",
    "    total_annotated_phenotypes += counts_for_assertion_values[assertion_value]\n",
    "\n",
    "total_annotated_phenotypes"
   ]
  },
  {
   "cell_type": "code",
   "execution_count": 846,
   "metadata": {},
   "outputs": [],
   "source": [
    "# 计算每一个属性取值的prevalence\n",
    "prevalences_of_attribute_values = {}\n",
    "\n",
    "for attribute_name in list_of_attributes:\n",
    "    counts_for_attribute_values = stat_occurences_of_attribute_values(attribute_name, list_of_diseases)\n",
    "\n",
    "    tmpdict = {}\n",
    "\n",
    "    sum_of_values = 0 \n",
    "    for attribute_value in counts_for_attribute_values:\n",
    "        #\n",
    "        count_of_value = counts_for_attribute_values[attribute_value]\n",
    "        sum_of_values += count_of_value\n",
    "        #\n",
    "        value_prevalence = count_of_value/total_annotated_phenotypes\n",
    "        tmpdict.setdefault( attribute_value, value_prevalence )\n",
    "    \n",
    "    # 对于None这种情况 (可选属性都有None)\n",
    "    if attribute_name != 'Assertion':\n",
    "        count_of_none = total_annotated_phenotypes - sum_of_values\n",
    "        value_prevalence = count_of_none/total_annotated_phenotypes\n",
    "        tmpdict.setdefault( 'None', value_prevalence )\n",
    "    \n",
    "    #\n",
    "    prevalences_of_attribute_values.setdefault( attribute_name, tmpdict )\n",
    "\n",
    "# prevalences_of_attribute_values\n"
   ]
  },
  {
   "cell_type": "code",
   "execution_count": 847,
   "metadata": {},
   "outputs": [],
   "source": [
    "# \n",
    "# overall_accuracy  = 0\n",
    "# overall_weighted_acc = 0\n",
    "\n",
    "list_of_unweighted_accuracy_for_phenotypes = []\n",
    "list_of_weighted_accuracy_for_phenotypes   = []\n",
    "\n",
    "# 每一个属性槽的weighted acc\n",
    "dict_of_weighted_accuracy_for_slots = {}\n",
    "\n",
    "# 对于4020个表型，每一个属性，其取值有一个权重，记录为[]; 这一取值是否正确，记录一个 weighted identify\n",
    "# 然后分别求和，然后可计算\n",
    "for attribute_name in list_of_attributes:\n",
    "    dict_of_weighted_accuracy_for_slots.setdefault( attribute_name, ([],[]) )\n",
    "\n",
    "\n",
    "for disease_name in list( annotated_phenotypes_info_of_diseases.keys() ):\n",
    "    # 仅看测试集中的疾病\n",
    "    if disease_name not in diseases_used_for_test:\n",
    "        continue\n",
    "\n",
    "    # print(disease_name)\n",
    "\n",
    "    # 该疾病文档中标注的表型及其关联属性\n",
    "    info_of_annotated_phenotypes = annotated_phenotypes_info_of_diseases[disease_name]\n",
    "\n",
    "    # 对于该疾病文档中标注的每一个表型\n",
    "    for pheno_id in info_of_annotated_phenotypes:\n",
    "        # 获取该变量中存储的表型相关信息\n",
    "        pheno_info = info_of_annotated_phenotypes[pheno_id]\n",
    "\n",
    "        # \n",
    "        # 该表型人工标注的属性\n",
    "        string_of_true_attribute_values = pheno_info['associated_attributes']   \n",
    "\n",
    "        # 仅考虑 list_of_attributes 中的属性 (12个)\n",
    "        # 'Assertion:Possible'\n",
    "        true_attribute_values = {}\n",
    "        \n",
    "        # 对于这12个属性\n",
    "        for attribute_name in list_of_attributes:\n",
    "            # 观察它们是否存在于人工标注中\n",
    "            # 如果存在，直接赋予人工标注的值\n",
    "            if attribute_name + ':' in string_of_true_attribute_values:\n",
    "                # 将这个值找出来\n",
    "                for selected_attribute_value in string_of_true_attribute_values.split(';'):\n",
    "                    selected_attribute, selected_value = selected_attribute_value.split(':')\n",
    "                    if selected_attribute == attribute_name:\n",
    "                        true_attribute_values.setdefault(attribute_name, selected_value)\n",
    "                        break\n",
    "            # 如果不存在，赋予默认值 (Present or None)\n",
    "            elif attribute_name + ':' not in string_of_true_attribute_values:\n",
    "                if attribute_name == 'Assertion':\n",
    "                    true_attribute_values.setdefault(attribute_name, 'Present')\n",
    "                else:\n",
    "                    true_attribute_values.setdefault(attribute_name, 'None')\n",
    "\n",
    "\n",
    "        #\n",
    "        # 该表型算法预测的属性\n",
    "        # 原始的pred_attribute_values包含了 detected cue word , 可以去掉\n",
    "        pred_attribute_values = {}\n",
    "\n",
    "        for attribute_name in pheno_info['pred_attribute_values']:\n",
    "            predicted_value = pheno_info['pred_attribute_values'][attribute_name][0]\n",
    "            pred_attribute_values.setdefault( attribute_name, predicted_value )\n",
    "\n",
    "        \n",
    "        # \n",
    "        # true_attribute_values = {}\n",
    "        # pred_attribute_values = {}\n",
    "\n",
    "        # \n",
    "        # 先考虑 per-phenotype unweighted accuracy\n",
    "        # per-phenotype\n",
    "        # K : number of slots\n",
    "        number_of_slots = len( list_of_attributes )\n",
    "\n",
    "        per_phenotype_unweighted_accuracy = 0\n",
    "        for attribute_name in list_of_attributes:\n",
    "            # identify function : I(true_for_slot_k, pred_for_slot_k)\n",
    "            if true_attribute_values[attribute_name] == pred_attribute_values[attribute_name]:\n",
    "                per_phenotype_unweighted_accuracy += 1\n",
    "            else:\n",
    "                per_phenotype_unweighted_accuracy += 0\n",
    "        \n",
    "        # 记录该表型的 identify score\n",
    "        list_of_unweighted_accuracy_for_phenotypes.append( per_phenotype_unweighted_accuracy/number_of_slots )\n",
    "\n",
    "        \n",
    "        #\n",
    "        # 再考虑 per-phenotype unweighted accuracy\n",
    "        # 就是 Identify 打分要带上该属性值的权重了\n",
    "        # 12个属性槽上取值的权重之和 \n",
    "        per_phenotype_weighted_identify = 0\n",
    "        sum_of_weights_on_slots = 0\n",
    "\n",
    "        for attribute_name in list_of_attributes:\n",
    "            # 该属性对应的取值\n",
    "            true_selected_value = true_attribute_values[attribute_name]\n",
    "            # 该属性取值的权重\n",
    "            weight_of_attribute_value = 1 - prevalences_of_attribute_values[attribute_name][true_selected_value]\n",
    "            # 这些属性取值对应的权重之和\n",
    "            sum_of_weights_on_slots += weight_of_attribute_value\n",
    "\n",
    "            # identify function : I(true_for_slot_k, pred_for_slot_k)\n",
    "            if true_attribute_values[attribute_name] == pred_attribute_values[attribute_name]:\n",
    "                # 引入该属性值的权重\n",
    "                per_phenotype_weighted_identify += 1*weight_of_attribute_value\n",
    "            else:\n",
    "                per_phenotype_weighted_identify += 0*weight_of_attribute_value    \n",
    "\n",
    "        # 记录该表型的 weighted identify score\n",
    "        list_of_weighted_accuracy_for_phenotypes.append( per_phenotype_weighted_identify/sum_of_weights_on_slots )\n",
    "\n",
    "\n",
    "        #\n",
    "        # for per-slot accuracy\n",
    "        # 对于该表型的每一个属性槽\n",
    "        for attribute_name in list_of_attributes:\n",
    "            # 该属性对应的取值\n",
    "            true_selected_value = true_attribute_values[attribute_name]\n",
    "            # 该属性取值的权重\n",
    "            weight_of_attribute_value = 1 - prevalences_of_attribute_values[attribute_name][true_selected_value]\n",
    "            # 该属性取值的identify score\n",
    "            identify_of_attribute_value = 0\n",
    "\n",
    "            # identify function : I(true_for_slot_k, pred_for_slot_k)\n",
    "            if true_attribute_values[attribute_name] == pred_attribute_values[attribute_name]:\n",
    "                # 引入该属性值的权重\n",
    "                identify_of_attribute_value = 1*weight_of_attribute_value\n",
    "            else:\n",
    "                identify_of_attribute_value = 0*weight_of_attribute_value  \n",
    "\n",
    "            # 记录该表型每一个属性槽上的加权得分\n",
    "            # identify_of_attribute_value += 1*weight_of_attribute_value 其实就是1和0\n",
    "            # 属性取值的权重\n",
    "            dict_of_weighted_accuracy_for_slots[attribute_name][1].append( weight_of_attribute_value )\n",
    "            # 取值正确或错误的加权打分\n",
    "            dict_of_weighted_accuracy_for_slots[attribute_name][0].append( identify_of_attribute_value )\n"
   ]
  },
  {
   "cell_type": "code",
   "execution_count": 848,
   "metadata": {},
   "outputs": [
    {
     "output_type": "execute_result",
     "data": {
      "text/plain": "(1104, 1104)"
     },
     "metadata": {},
     "execution_count": 848
    }
   ],
   "source": [
    "len( list_of_weighted_accuracy_for_phenotypes ), len( list_of_unweighted_accuracy_for_phenotypes )"
   ]
  },
  {
   "cell_type": "code",
   "execution_count": 849,
   "metadata": {},
   "outputs": [
    {
     "output_type": "execute_result",
     "data": {
      "text/plain": "0.9059782608695548"
     },
     "metadata": {},
     "execution_count": 849
    }
   ],
   "source": [
    "# unweighted acc\n",
    "sum( list_of_unweighted_accuracy_for_phenotypes )/len( list_of_unweighted_accuracy_for_phenotypes )"
   ]
  },
  {
   "cell_type": "code",
   "execution_count": 850,
   "metadata": {},
   "outputs": [
    {
     "output_type": "execute_result",
     "data": {
      "text/plain": "0.6901921805757497"
     },
     "metadata": {},
     "execution_count": 850
    }
   ],
   "source": [
    "# weighted acc\n",
    "sum( list_of_weighted_accuracy_for_phenotypes )/len( list_of_weighted_accuracy_for_phenotypes )"
   ]
  },
  {
   "cell_type": "code",
   "execution_count": 851,
   "metadata": {
    "tags": []
   },
   "outputs": [
    {
     "output_type": "stream",
     "name": "stdout",
     "text": "Assertion 0.706\nSeverity 0.681\nTemporal 0.579\nSensation 0.754\nColor 0.636\nAge 0.644\nGender 0.769\nFrequency 0.610\nDistribution 0.757\nSOI 0.502\n"
    }
   ],
   "source": [
    "# per-slot weighted accuracy\n",
    "for attribute_name in list_of_attributes:\n",
    "    # dict_of_weighted_accuracy_for_slots[attribute_name]\n",
    "    list_of_identity, list_of_weights = dict_of_weighted_accuracy_for_slots[attribute_name]\n",
    "    print( attribute_name, '%.3f'%(sum(list_of_identity)/sum(list_of_weights)) )"
   ]
  },
  {
   "cell_type": "code",
   "execution_count": null,
   "metadata": {},
   "outputs": [],
   "source": []
  }
 ]
}